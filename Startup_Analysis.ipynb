{
 "cells": [
  {
   "cell_type": "markdown",
   "metadata": {},
   "source": [
    "Import Libraries"
   ]
  },
  {
   "cell_type": "code",
   "execution_count": 2,
   "metadata": {},
   "outputs": [],
   "source": [
    "import pandas as pd\n",
    "import numpy as np\n",
    "import requests\n",
    "from bs4 import BeautifulSoup\n",
    "import matplotlib.pyplot as plt\n",
    "import seaborn as sns\n",
    "import warnings\n",
    "warnings.filterwarnings(\"ignore\")"
   ]
  },
  {
   "cell_type": "markdown",
   "metadata": {},
   "source": [
    "Scraping Latest startup Funding data "
   ]
  },
  {
   "cell_type": "code",
   "execution_count": 49,
   "metadata": {},
   "outputs": [
    {
     "data": {
      "text/html": [
       "<div>\n",
       "<style scoped>\n",
       "    .dataframe tbody tr th:only-of-type {\n",
       "        vertical-align: middle;\n",
       "    }\n",
       "\n",
       "    .dataframe tbody tr th {\n",
       "        vertical-align: top;\n",
       "    }\n",
       "\n",
       "    .dataframe thead th {\n",
       "        text-align: right;\n",
       "    }\n",
       "</style>\n",
       "<table border=\"1\" class=\"dataframe\">\n",
       "  <thead>\n",
       "    <tr style=\"text-align: right;\">\n",
       "      <th></th>\n",
       "      <th>Amount (in USD)</th>\n",
       "      <th>CityLocation</th>\n",
       "      <th>Date</th>\n",
       "      <th>IndustryVertical</th>\n",
       "      <th>InvestmentType</th>\n",
       "      <th>InvestorsName</th>\n",
       "      <th>StartupName</th>\n",
       "      <th>Subvertical</th>\n",
       "    </tr>\n",
       "  </thead>\n",
       "  <tbody>\n",
       "    <tr>\n",
       "      <th>0</th>\n",
       "      <td>460,000,000</td>\n",
       "      <td>Bengaluru</td>\n",
       "      <td>01/04/2021</td>\n",
       "      <td>Edu-tech</td>\n",
       "      <td>Series F</td>\n",
       "      <td>Innoven Capital</td>\n",
       "      <td>BYJU’S</td>\n",
       "      <td>Online tutoring</td>\n",
       "    </tr>\n",
       "    <tr>\n",
       "      <th>1</th>\n",
       "      <td>300,000,000</td>\n",
       "      <td>Bengaluru</td>\n",
       "      <td>05/04/2021</td>\n",
       "      <td>E-commerce</td>\n",
       "      <td>Series E</td>\n",
       "      <td>SoftBank Vision Fund 2</td>\n",
       "      <td>Meesho</td>\n",
       "      <td>Online reselling platform</td>\n",
       "    </tr>\n",
       "    <tr>\n",
       "      <th>2</th>\n",
       "      <td>343,000,000</td>\n",
       "      <td>Bengaluru</td>\n",
       "      <td>14/04/2021</td>\n",
       "      <td>Online Food Delivery</td>\n",
       "      <td>Series J</td>\n",
       "      <td>Amansa Holdings, Carmignac, Falcon Edge Capita...</td>\n",
       "      <td>Swiggy</td>\n",
       "      <td>Online Food Delivery</td>\n",
       "    </tr>\n",
       "    <tr>\n",
       "      <th>3</th>\n",
       "      <td>83,000,000</td>\n",
       "      <td>Bengaluru</td>\n",
       "      <td>07/04/2021</td>\n",
       "      <td>FinTech</td>\n",
       "      <td>Series D</td>\n",
       "      <td>MC Global Edtech, B Capital, Baron, others</td>\n",
       "      <td>Groww</td>\n",
       "      <td>Investment platform</td>\n",
       "    </tr>\n",
       "    <tr>\n",
       "      <th>4</th>\n",
       "      <td>7,400,000</td>\n",
       "      <td>Mumbai</td>\n",
       "      <td>14/04/2021</td>\n",
       "      <td>E-commerce</td>\n",
       "      <td>Venture</td>\n",
       "      <td>Hindustan Media Ventures</td>\n",
       "      <td>Beldara</td>\n",
       "      <td>Global B2B marketplace</td>\n",
       "    </tr>\n",
       "  </tbody>\n",
       "</table>\n",
       "</div>"
      ],
      "text/plain": [
       "  Amount (in USD) CityLocation        Date      IndustryVertical  \\\n",
       "0     460,000,000    Bengaluru  01/04/2021              Edu-tech   \n",
       "1     300,000,000    Bengaluru  05/04/2021            E-commerce   \n",
       "2     343,000,000    Bengaluru  14/04/2021  Online Food Delivery   \n",
       "3      83,000,000    Bengaluru  07/04/2021               FinTech   \n",
       "4       7,400,000       Mumbai  14/04/2021            E-commerce   \n",
       "\n",
       "  InvestmentType                                      InvestorsName  \\\n",
       "0       Series F                                    Innoven Capital   \n",
       "1       Series E                             SoftBank Vision Fund 2   \n",
       "2       Series J  Amansa Holdings, Carmignac, Falcon Edge Capita...   \n",
       "3       Series D         MC Global Edtech, B Capital, Baron, others   \n",
       "4        Venture                           Hindustan Media Ventures   \n",
       "\n",
       "  StartupName                Subvertical  \n",
       "0      BYJU’S            Online tutoring  \n",
       "1      Meesho  Online reselling platform  \n",
       "2      Swiggy       Online Food Delivery  \n",
       "3       Groww        Investment platform  \n",
       "4     Beldara     Global B2B marketplace  "
      ]
     },
     "execution_count": 49,
     "metadata": {},
     "output_type": "execute_result"
    }
   ],
   "source": [
    "page=requests.get('https://trak.in/india-startup-funding-investment-2015/')\n",
    "soup=BeautifulSoup(page.content,'html.parser')\n",
    "target=soup.find('tbody', class_='row-hover')\n",
    "#df=pd.DataFrame(columns=['Date','Startup Name','Industry/Vertical','Sub-vertical','City/Location','Investors name','Investment Type','Amount(in usd)'])\n",
    "#print(df)\n",
    "data=[]\n",
    "for tr in soup.find_all('tbody'):\n",
    "    for td in tr.find_all('tr'):\n",
    "        tds=td.find_all('td')\n",
    "        data.append({'Date':tds[1].text, 'StartupName':tds[2].text,'IndustryVertical':tds[3].text,'Subvertical':tds[4].text, 'CityLocation':tds[5].text,\"InvestorsName\":tds[6].text,'InvestmentType':tds[7].text,'Amount (in USD)':tds[8].text})\n",
    "          \n",
    "df=pd.DataFrame(data)\n",
    "df.head()\n",
    "#df.describe()\n"
   ]
  },
  {
   "cell_type": "markdown",
   "metadata": {},
   "source": [
    "Loading Old dataset of startup funding"
   ]
  },
  {
   "cell_type": "code",
   "execution_count": 50,
   "metadata": {},
   "outputs": [
    {
     "data": {
      "text/html": [
       "<div>\n",
       "<style scoped>\n",
       "    .dataframe tbody tr th:only-of-type {\n",
       "        vertical-align: middle;\n",
       "    }\n",
       "\n",
       "    .dataframe tbody tr th {\n",
       "        vertical-align: top;\n",
       "    }\n",
       "\n",
       "    .dataframe thead th {\n",
       "        text-align: right;\n",
       "    }\n",
       "</style>\n",
       "<table border=\"1\" class=\"dataframe\">\n",
       "  <thead>\n",
       "    <tr style=\"text-align: right;\">\n",
       "      <th></th>\n",
       "      <th>Date</th>\n",
       "      <th>StartupName</th>\n",
       "      <th>IndustryVertical</th>\n",
       "      <th>Subvertical</th>\n",
       "      <th>CityLocation</th>\n",
       "      <th>InvestorsName</th>\n",
       "      <th>InvestmentType</th>\n",
       "      <th>Amount (in USD)</th>\n",
       "    </tr>\n",
       "  </thead>\n",
       "  <tbody>\n",
       "    <tr>\n",
       "      <th>0</th>\n",
       "      <td>01/08/2017</td>\n",
       "      <td>TouchKin</td>\n",
       "      <td>Technology</td>\n",
       "      <td>Predictive Care Platform</td>\n",
       "      <td>Bangalore</td>\n",
       "      <td>Kae Capital</td>\n",
       "      <td>Private Equity</td>\n",
       "      <td>1,300,000</td>\n",
       "    </tr>\n",
       "    <tr>\n",
       "      <th>1</th>\n",
       "      <td>02/08/2017</td>\n",
       "      <td>Ethinos</td>\n",
       "      <td>Technology</td>\n",
       "      <td>Digital Marketing Agency</td>\n",
       "      <td>Mumbai</td>\n",
       "      <td>Triton Investment Advisors</td>\n",
       "      <td>Private Equity</td>\n",
       "      <td>NaN</td>\n",
       "    </tr>\n",
       "    <tr>\n",
       "      <th>2</th>\n",
       "      <td>02/08/2017</td>\n",
       "      <td>Leverage Edu</td>\n",
       "      <td>Consumer Internet</td>\n",
       "      <td>Online platform for Higher Education Services</td>\n",
       "      <td>New Delhi</td>\n",
       "      <td>Kashyap Deorah, Anand Sankeshwar, Deepak Jain,...</td>\n",
       "      <td>Seed Funding</td>\n",
       "      <td>NaN</td>\n",
       "    </tr>\n",
       "    <tr>\n",
       "      <th>3</th>\n",
       "      <td>02/08/2017</td>\n",
       "      <td>Zepo</td>\n",
       "      <td>Consumer Internet</td>\n",
       "      <td>DIY Ecommerce platform</td>\n",
       "      <td>Mumbai</td>\n",
       "      <td>Kunal Shah, LetsVenture, Anupam Mittal, Hetal ...</td>\n",
       "      <td>Seed Funding</td>\n",
       "      <td>500,000</td>\n",
       "    </tr>\n",
       "    <tr>\n",
       "      <th>4</th>\n",
       "      <td>02/08/2017</td>\n",
       "      <td>Click2Clinic</td>\n",
       "      <td>Consumer Internet</td>\n",
       "      <td>healthcare service aggregator</td>\n",
       "      <td>Hyderabad</td>\n",
       "      <td>Narottam Thudi, Shireesh Palle</td>\n",
       "      <td>Seed Funding</td>\n",
       "      <td>850,000</td>\n",
       "    </tr>\n",
       "  </tbody>\n",
       "</table>\n",
       "</div>"
      ],
      "text/plain": [
       "         Date   StartupName   IndustryVertical  \\\n",
       "0  01/08/2017      TouchKin         Technology   \n",
       "1  02/08/2017       Ethinos         Technology   \n",
       "2  02/08/2017  Leverage Edu  Consumer Internet   \n",
       "3  02/08/2017          Zepo  Consumer Internet   \n",
       "4  02/08/2017  Click2Clinic  Consumer Internet   \n",
       "\n",
       "                                     Subvertical CityLocation  \\\n",
       "0                       Predictive Care Platform    Bangalore   \n",
       "1                       Digital Marketing Agency       Mumbai   \n",
       "2  Online platform for Higher Education Services    New Delhi   \n",
       "3                         DIY Ecommerce platform       Mumbai   \n",
       "4                  healthcare service aggregator    Hyderabad   \n",
       "\n",
       "                                       InvestorsName  InvestmentType  \\\n",
       "0                                        Kae Capital  Private Equity   \n",
       "1                         Triton Investment Advisors  Private Equity   \n",
       "2  Kashyap Deorah, Anand Sankeshwar, Deepak Jain,...    Seed Funding   \n",
       "3  Kunal Shah, LetsVenture, Anupam Mittal, Hetal ...    Seed Funding   \n",
       "4                     Narottam Thudi, Shireesh Palle    Seed Funding   \n",
       "\n",
       "  Amount (in USD)  \n",
       "0       1,300,000  \n",
       "1             NaN  \n",
       "2             NaN  \n",
       "3         500,000  \n",
       "4         850,000  "
      ]
     },
     "execution_count": 50,
     "metadata": {},
     "output_type": "execute_result"
    }
   ],
   "source": [
    "df2=pd.read_csv('startup_funding.csv')\n",
    "df2.drop(['Remarks','SNo'],axis='columns', inplace=True)\n",
    "df2.rename(columns={'SubVertical':'Subvertical','AmountInUSD':'Amount (in USD)'},inplace='True')\n",
    "df2.head()\n",
    "#df2.describe()"
   ]
  },
  {
   "cell_type": "markdown",
   "metadata": {},
   "source": [
    "Combining these 2 datasets to create a final dataset"
   ]
  },
  {
   "cell_type": "code",
   "execution_count": 51,
   "metadata": {},
   "outputs": [
    {
     "data": {
      "text/html": [
       "<div>\n",
       "<style scoped>\n",
       "    .dataframe tbody tr th:only-of-type {\n",
       "        vertical-align: middle;\n",
       "    }\n",
       "\n",
       "    .dataframe tbody tr th {\n",
       "        vertical-align: top;\n",
       "    }\n",
       "\n",
       "    .dataframe thead th {\n",
       "        text-align: right;\n",
       "    }\n",
       "</style>\n",
       "<table border=\"1\" class=\"dataframe\">\n",
       "  <thead>\n",
       "    <tr style=\"text-align: right;\">\n",
       "      <th></th>\n",
       "      <th>Amount (in USD)</th>\n",
       "      <th>CityLocation</th>\n",
       "      <th>Date</th>\n",
       "      <th>IndustryVertical</th>\n",
       "      <th>InvestmentType</th>\n",
       "      <th>InvestorsName</th>\n",
       "      <th>StartupName</th>\n",
       "      <th>Subvertical</th>\n",
       "    </tr>\n",
       "  </thead>\n",
       "  <tbody>\n",
       "    <tr>\n",
       "      <th>0</th>\n",
       "      <td>460,000,000</td>\n",
       "      <td>Bengaluru</td>\n",
       "      <td>01/04/2021</td>\n",
       "      <td>Edu-tech</td>\n",
       "      <td>Series F</td>\n",
       "      <td>Innoven Capital</td>\n",
       "      <td>BYJU’S</td>\n",
       "      <td>Online tutoring</td>\n",
       "    </tr>\n",
       "    <tr>\n",
       "      <th>1</th>\n",
       "      <td>300,000,000</td>\n",
       "      <td>Bengaluru</td>\n",
       "      <td>05/04/2021</td>\n",
       "      <td>E-commerce</td>\n",
       "      <td>Series E</td>\n",
       "      <td>SoftBank Vision Fund 2</td>\n",
       "      <td>Meesho</td>\n",
       "      <td>Online reselling platform</td>\n",
       "    </tr>\n",
       "    <tr>\n",
       "      <th>2</th>\n",
       "      <td>343,000,000</td>\n",
       "      <td>Bengaluru</td>\n",
       "      <td>14/04/2021</td>\n",
       "      <td>Online Food Delivery</td>\n",
       "      <td>Series J</td>\n",
       "      <td>Amansa Holdings, Carmignac, Falcon Edge Capita...</td>\n",
       "      <td>Swiggy</td>\n",
       "      <td>Online Food Delivery</td>\n",
       "    </tr>\n",
       "    <tr>\n",
       "      <th>3</th>\n",
       "      <td>83,000,000</td>\n",
       "      <td>Bengaluru</td>\n",
       "      <td>07/04/2021</td>\n",
       "      <td>FinTech</td>\n",
       "      <td>Series D</td>\n",
       "      <td>MC Global Edtech, B Capital, Baron, others</td>\n",
       "      <td>Groww</td>\n",
       "      <td>Investment platform</td>\n",
       "    </tr>\n",
       "    <tr>\n",
       "      <th>4</th>\n",
       "      <td>7,400,000</td>\n",
       "      <td>Mumbai</td>\n",
       "      <td>14/04/2021</td>\n",
       "      <td>E-commerce</td>\n",
       "      <td>Venture</td>\n",
       "      <td>Hindustan Media Ventures</td>\n",
       "      <td>Beldara</td>\n",
       "      <td>Global B2B marketplace</td>\n",
       "    </tr>\n",
       "  </tbody>\n",
       "</table>\n",
       "</div>"
      ],
      "text/plain": [
       "  Amount (in USD) CityLocation        Date      IndustryVertical  \\\n",
       "0     460,000,000    Bengaluru  01/04/2021              Edu-tech   \n",
       "1     300,000,000    Bengaluru  05/04/2021            E-commerce   \n",
       "2     343,000,000    Bengaluru  14/04/2021  Online Food Delivery   \n",
       "3      83,000,000    Bengaluru  07/04/2021               FinTech   \n",
       "4       7,400,000       Mumbai  14/04/2021            E-commerce   \n",
       "\n",
       "  InvestmentType                                      InvestorsName  \\\n",
       "0       Series F                                    Innoven Capital   \n",
       "1       Series E                             SoftBank Vision Fund 2   \n",
       "2       Series J  Amansa Holdings, Carmignac, Falcon Edge Capita...   \n",
       "3       Series D         MC Global Edtech, B Capital, Baron, others   \n",
       "4        Venture                           Hindustan Media Ventures   \n",
       "\n",
       "  StartupName                Subvertical  \n",
       "0      BYJU’S            Online tutoring  \n",
       "1      Meesho  Online reselling platform  \n",
       "2      Swiggy       Online Food Delivery  \n",
       "3       Groww        Investment platform  \n",
       "4     Beldara     Global B2B marketplace  "
      ]
     },
     "execution_count": 51,
     "metadata": {},
     "output_type": "execute_result"
    }
   ],
   "source": [
    "final_df=pd.concat([df,df2],axis=0,sort=\"True\")\n",
    "final_df.head()\n",
    "#final_df.describe()"
   ]
  },
  {
   "cell_type": "markdown",
   "metadata": {},
   "source": [
    "Data Cleaning"
   ]
  },
  {
   "cell_type": "code",
   "execution_count": 52,
   "metadata": {},
   "outputs": [
    {
     "data": {
      "text/plain": [
       "Amount (in USD)     847\n",
       "CityLocation        179\n",
       "Date                  0\n",
       "IndustryVertical    171\n",
       "InvestmentType        1\n",
       "InvestorsName         8\n",
       "StartupName           0\n",
       "Subvertical         936\n",
       "dtype: int64"
      ]
     },
     "execution_count": 52,
     "metadata": {},
     "output_type": "execute_result"
    }
   ],
   "source": [
    "final_df.describe()\n",
    "final_df.isnull().sum()"
   ]
  },
  {
   "cell_type": "code",
   "execution_count": 53,
   "metadata": {},
   "outputs": [
    {
     "data": {
      "text/plain": [
       "Amount (in USD)     0\n",
       "CityLocation        0\n",
       "Date                0\n",
       "IndustryVertical    0\n",
       "InvestmentType      0\n",
       "InvestorsName       0\n",
       "StartupName         0\n",
       "Subvertical         0\n",
       "dtype: int64"
      ]
     },
     "execution_count": 53,
     "metadata": {},
     "output_type": "execute_result"
    }
   ],
   "source": [
    "final_df.dropna(inplace=True)\n",
    "final_df.isnull().sum()"
   ]
  },
  {
   "cell_type": "code",
   "execution_count": 54,
   "metadata": {},
   "outputs": [
    {
     "data": {
      "text/html": [
       "<div>\n",
       "<style scoped>\n",
       "    .dataframe tbody tr th:only-of-type {\n",
       "        vertical-align: middle;\n",
       "    }\n",
       "\n",
       "    .dataframe tbody tr th {\n",
       "        vertical-align: top;\n",
       "    }\n",
       "\n",
       "    .dataframe thead th {\n",
       "        text-align: right;\n",
       "    }\n",
       "</style>\n",
       "<table border=\"1\" class=\"dataframe\">\n",
       "  <thead>\n",
       "    <tr style=\"text-align: right;\">\n",
       "      <th></th>\n",
       "      <th>Amount (in USD)</th>\n",
       "      <th>CityLocation</th>\n",
       "      <th>Date</th>\n",
       "      <th>IndustryVertical</th>\n",
       "      <th>InvestmentType</th>\n",
       "      <th>InvestorsName</th>\n",
       "      <th>StartupName</th>\n",
       "      <th>Subvertical</th>\n",
       "    </tr>\n",
       "  </thead>\n",
       "  <tbody>\n",
       "    <tr>\n",
       "      <th>count</th>\n",
       "      <td>1436</td>\n",
       "      <td>1436</td>\n",
       "      <td>1436</td>\n",
       "      <td>1436</td>\n",
       "      <td>1436</td>\n",
       "      <td>1436</td>\n",
       "      <td>1436</td>\n",
       "      <td>1436</td>\n",
       "    </tr>\n",
       "    <tr>\n",
       "      <th>unique</th>\n",
       "      <td>367</td>\n",
       "      <td>70</td>\n",
       "      <td>576</td>\n",
       "      <td>120</td>\n",
       "      <td>57</td>\n",
       "      <td>983</td>\n",
       "      <td>1045</td>\n",
       "      <td>1110</td>\n",
       "    </tr>\n",
       "    <tr>\n",
       "      <th>top</th>\n",
       "      <td>1,000,000</td>\n",
       "      <td>Bangalore</td>\n",
       "      <td>10/07/2018</td>\n",
       "      <td>Consumer Internet</td>\n",
       "      <td>Private Equity</td>\n",
       "      <td>N/A</td>\n",
       "      <td>Nykaa</td>\n",
       "      <td>AI Based Solutions Platform</td>\n",
       "    </tr>\n",
       "    <tr>\n",
       "      <th>freq</th>\n",
       "      <td>101</td>\n",
       "      <td>299</td>\n",
       "      <td>16</td>\n",
       "      <td>607</td>\n",
       "      <td>654</td>\n",
       "      <td>28</td>\n",
       "      <td>7</td>\n",
       "      <td>8</td>\n",
       "    </tr>\n",
       "  </tbody>\n",
       "</table>\n",
       "</div>"
      ],
      "text/plain": [
       "       Amount (in USD) CityLocation        Date   IndustryVertical  \\\n",
       "count             1436         1436        1436               1436   \n",
       "unique             367           70         576                120   \n",
       "top          1,000,000    Bangalore  10/07/2018  Consumer Internet   \n",
       "freq               101          299          16                607   \n",
       "\n",
       "        InvestmentType InvestorsName StartupName                  Subvertical  \n",
       "count             1436          1436        1436                         1436  \n",
       "unique              57           983        1045                         1110  \n",
       "top     Private Equity           N/A       Nykaa  AI Based Solutions Platform  \n",
       "freq               654            28           7                            8  "
      ]
     },
     "execution_count": 54,
     "metadata": {},
     "output_type": "execute_result"
    }
   ],
   "source": [
    "final_df.describe()"
   ]
  },
  {
   "cell_type": "code",
   "execution_count": 55,
   "metadata": {},
   "outputs": [
    {
     "data": {
      "text/plain": [
       "(1436, 8)"
      ]
     },
     "execution_count": 55,
     "metadata": {},
     "output_type": "execute_result"
    }
   ],
   "source": [
    "final_df.shape"
   ]
  },
  {
   "cell_type": "markdown",
   "metadata": {},
   "source": [
    "Removing the noise from the dataset"
   ]
  },
  {
   "cell_type": "code",
   "execution_count": 56,
   "metadata": {},
   "outputs": [],
   "source": [
    "final_df=final_df.loc[final_df['Amount (in USD)'] != 'Undisclosed']\n",
    "final_df=final_df.loc[final_df['Amount (in USD)'] !='75,000,000-100,000,000']\n",
    "final_df=final_df.loc[final_df['Amount (in USD)'] !='NA']\n",
    "final_df=final_df.loc[final_df['Amount (in USD)'] !='upto 8,900,000']\n",
    "final_df=final_df.loc[final_df['Amount (in USD)'] !='upto 15,000,000']\n",
    "final_df=final_df.loc[final_df['Amount (in USD)'] !='NA\\n']\n",
    "final_df=final_df.loc[final_df['Amount (in USD)'] != 'undisclosed']\n",
    "final_df=final_df.loc[final_df['Amount (in USD)'] != 'unknown']\n",
    "final_df=final_df.loc[final_df['Amount (in USD)'] != '']\n",
    "final_df=final_df.loc[final_df['Amount (in USD)'] !='N/A']\n",
    "final_df['Amount (in USD)']=final_df['Amount (in USD)'].apply(lambda x: float(str(x).replace(\",\",\"\")))\n"
   ]
  },
  {
   "cell_type": "code",
   "execution_count": 57,
   "metadata": {},
   "outputs": [
    {
     "data": {
      "text/plain": [
       "(1369, 8)"
      ]
     },
     "execution_count": 57,
     "metadata": {},
     "output_type": "execute_result"
    }
   ],
   "source": [
    "final_df.shape"
   ]
  },
  {
   "cell_type": "markdown",
   "metadata": {},
   "source": [
    "Exploring the Funding Amount"
   ]
  },
  {
   "cell_type": "code",
   "execution_count": 58,
   "metadata": {},
   "outputs": [
    {
     "name": "stdout",
     "output_type": "stream",
     "text": [
      "Minimum Funding: 18000.0 USD\n",
      "Maximum Funding: 3900000000.0 USD\n",
      "Median Funding: 2500000.0 USD\n",
      "Mean Funding: 24479356.61 USD\n",
      "Std. Deviation: 136962468.53 USD\n"
     ]
    }
   ],
   "source": [
    "print('Minimum Funding: ' + str(final_df['Amount (in USD)'].min())+ ' USD')\n",
    "print('Maximum Funding: ' + str(final_df['Amount (in USD)'].max())+ ' USD')\n",
    "print('Median Funding: ' + str(final_df['Amount (in USD)'].median())+ ' USD')\n",
    "print('Mean Funding: ' + str(round(final_df['Amount (in USD)'].mean(),2))+ ' USD')\n",
    "print('Std. Deviation: ' + str(round(final_df['Amount (in USD)'].std(),2))+ ' USD')\n"
   ]
  },
  {
   "cell_type": "code",
   "execution_count": 59,
   "metadata": {},
   "outputs": [
    {
     "data": {
      "image/png": "[encoded data removed]",
      "text/plain": [
       "<Figure size 576x360 with 1 Axes>"
      ]
     },
     "metadata": {},
     "output_type": "display_data"
    }
   ],
   "source": [
    "final_df['Amount (in USD)_log'] = np.log(final_df[\"Amount (in USD)\"] + 1)\n",
    "\n",
    "plt.figure(figsize=(8,5))\n",
    "sns.distplot(final_df['Amount (in USD)_log'].dropna())\n",
    "plt.xlabel('log of Amount in USD', fontsize=12)\n",
    "plt.title(\"Normal distribution of Fundind Amount\", fontsize=16)\n",
    "plt.show()\n"
   ]
  },
  {
   "cell_type": "markdown",
   "metadata": {},
   "source": [
    "We can see that from the graph that Mean and Median are almost equal as it is symmetrical not skewed"
   ]
  },
  {
   "cell_type": "markdown",
   "metadata": {},
   "source": [
    "Exploring the Investment Types"
   ]
  },
  {
   "cell_type": "code",
   "execution_count": 60,
   "metadata": {},
   "outputs": [
    {
     "name": "stdout",
     "output_type": "stream",
     "text": [
      "Private Equity              641\n",
      "Seed Funding                396\n",
      "Seed/ Angel Funding          96\n",
      "Series A                     33\n",
      "Series B                     24\n",
      "Series C                     24\n",
      "Seed                         21\n",
      "Debt Funding                 14\n",
      "Series D                     13\n",
      "Pre-Series A                  9\n",
      "Series E                      8\n",
      "Series F                      8\n",
      "Seed / Angel Funding          8\n",
      "                              7\n",
      "Seed Round                    6\n",
      "Venture                       4\n",
      "Debt Financing                4\n",
      "Private Funding               4\n",
      "Private Equity Round          4\n",
      "pre-Series A                  4\n",
      "Venture - Series Unknown      2\n",
      "Venture Round                 2\n",
      "In Progress                   2\n",
      "Series J                      2\n",
      "Angel                         2\n",
      "Venture-Series Unknown        2\n",
      "Venture Series                2\n",
      "Funding                       1\n",
      "Follow-On                     1\n",
      "Series C1                     1\n",
      "Series G                      1\n",
      "Pre Seed                      1\n",
      "Series H                      1\n",
      "pre-series A                  1\n",
      "Unspecified                   1\n",
      "Single Venture                1\n",
      "Corporate Round               1\n",
      "pre-Series B                  1\n",
      "Equity and Debt               1\n",
      "M&A                           1\n",
      "pre-Seed                      1\n",
      "Pre-series E                  1\n",
      "Venture                       1\n",
      "Seed Funding Round            1\n",
      "Debt                          1\n",
      "Bridge Funding                1\n",
      "Series 1                      1\n",
      "Angel Round                   1\n",
      "Secondary Market              1\n",
      "Series                        1\n",
      "Maiden Round                  1\n",
      "Series D1                     1\n",
      "Pre-series A                  1\n",
      "Funding Round                 1\n",
      "Name: InvestmentType, dtype: int64\n"
     ]
    }
   ],
   "source": [
    "Investdesc=final_df.InvestmentType.value_counts()\n",
    "print(Investdesc)"
   ]
  },
  {
   "cell_type": "code",
   "execution_count": 61,
   "metadata": {},
   "outputs": [
    {
     "data": {
      "image/png": "[encoded data removed]",
      "text/plain": [
       "<Figure size 576x360 with 1 Axes>"
      ]
     },
     "metadata": {},
     "output_type": "display_data"
    }
   ],
   "source": [
    "#plotting top 10 investment types\n",
    "plt.figure(figsize=(8,5))\n",
    "plt.bar(list(Investdesc[0:11].index),list(Investdesc[0:11].values),color=(0.1, 0.1, 0.1, 0.1),  edgecolor='blue')\n",
    "plt.xticks(rotation=70)\n",
    "plt.ylabel(' Investment Type Counts')\n",
    "plt.title('Top 10 Investment types')\n",
    "\n",
    "plt.show()\n"
   ]
  },
  {
   "cell_type": "code",
   "execution_count": 62,
   "metadata": {},
   "outputs": [
    {
     "data": {
      "image/png": "[encoded data removed]",
      "text/plain": [
       "<Figure size 720x576 with 1 Axes>"
      ]
     },
     "metadata": {},
     "output_type": "display_data"
    }
   ],
   "source": [
    "plt.figure(figsize=(10,8))\n",
    "final_df1=final_df.loc[final_df['InvestmentType'] == 'Private Equity']\n",
    "final_df2=final_df.loc[final_df['InvestmentType'] == 'Seed Funding']\n",
    "final_df3=final_df.loc[final_df['InvestmentType'] == 'Seed/ Angel Funding']\n",
    "final_df4=final_df.loc[final_df['InvestmentType'] == 'Series A']\n",
    "final_df5=final_df.loc[final_df['InvestmentType'] == 'Series C']\n",
    "final_df6=final_df.loc[final_df['InvestmentType'] == 'Series B']\n",
    "dummy_df=pd.concat([final_df1,final_df2,final_df3,final_df4,final_df5,final_df6],axis=0,sort=True)\n",
    "g1 = sns.boxplot(x='InvestmentType', y=\"Amount (in USD)_log\", \n",
    "            data=dummy_df)\n",
    "#plt.xticks(rotation=45)\n",
    "g1.set_title(\" Funding Amounts of Top 6 Investment Types\", fontsize=15)\n",
    "g1.set_xlabel(\"Investment Types\", fontsize=12)\n",
    "g1.set_ylabel(\" Log of Amount (USD)\", fontsize=12)\n",
    "plt.show()\n"
   ]
  },
  {
   "cell_type": "markdown",
   "metadata": {},
   "source": [
    "Exploring the main Investors"
   ]
  },
  {
   "cell_type": "code",
   "execution_count": 63,
   "metadata": {},
   "outputs": [
    {
     "name": "stdout",
     "output_type": "stream",
     "text": [
      "Description count of Investors\n",
      "N/A                      24\n",
      "Undisclosed Investors    17\n",
      "Undisclosed investors    16\n",
      "undisclosed investors    11\n",
      "Info Edge (India) Ltd    11\n",
      "Kalaari Capital           9\n",
      "InnoVen Capital           8\n",
      "Brand Capital             7\n",
      "Indian Angel Network      7\n",
      "Undisclosed investor      7\n",
      "Sequoia Capital India     7\n",
      "Trifecta Capital          6\n",
      "Accel Partners            6\n",
      "Undisclosed               5\n",
      "Undisclosed Investor      5\n",
      "Name: InvestorsName, dtype: int64\n"
     ]
    }
   ],
   "source": [
    "Investors = final_df.InvestorsName.value_counts()\n",
    "print(\"Description count of Investors\")\n",
    "print(Investors[:15])"
   ]
  },
  {
   "cell_type": "code",
   "execution_count": 64,
   "metadata": {},
   "outputs": [
    {
     "name": "stdout",
     "output_type": "stream",
     "text": [
      "Description count of Investors\n",
      "Undisclosed Investors     85\n",
      "Info Edge (India) Ltd     11\n",
      "Kalaari Capital            9\n",
      "InnoVen Capital            8\n",
      "Sequoia Capital India      7\n",
      "Brand Capital              7\n",
      "Indian Angel Network       7\n",
      "Accel Partners             6\n",
      "Trifecta Capital           6\n",
      "Flipkart                   5\n",
      "Y Combinator               5\n",
      "Sequoia India              5\n",
      "Fosun International        5\n",
      "Alteria Capital            5\n",
      "Credence Family Office     4\n",
      "Name: InvestorsName, dtype: int64\n"
     ]
    }
   ],
   "source": [
    "final_df['InvestorsName']=final_df['InvestorsName'].replace(['N/A','Undisclosed investors','Undisclosed Investor','undisclosed investors','Undisclosed investor','Undisclosed'],'Undisclosed Investors')\n",
    "Investors = final_df.InvestorsName.value_counts()\n",
    "print(\"Description count of Investors\")\n",
    "print(Investors[:15])"
   ]
  },
  {
   "cell_type": "code",
   "execution_count": 65,
   "metadata": {},
   "outputs": [
    {
     "data": {
      "image/png": "[encoded data removed]",
      "text/plain": [
       "<Figure size 576x360 with 1 Axes>"
      ]
     },
     "metadata": {},
     "output_type": "display_data"
    }
   ],
   "source": [
    "#Ignoring the undisclosed data\n",
    "plt.figure(figsize=(8,5))\n",
    "plt.bar(list(Investors[1:11].index),list(Investors[1:11].values),color=plt.cm.Paired(np.arange(len(final_df))))\n",
    "plt.xticks(rotation=70)\n",
    "plt.ylabel(' No. of Investments made by Investors')\n",
    "plt.title('Top 10 Investors')\n",
    "plt.show()"
   ]
  },
  {
   "cell_type": "code",
   "execution_count": 66,
   "metadata": {},
   "outputs": [
    {
     "data": {
      "image/png": "[encoded data removed]",
      "text/plain": [
       "<Figure size 720x576 with 1 Axes>"
      ]
     },
     "metadata": {},
     "output_type": "display_data"
    }
   ],
   "source": [
    "plt.figure(figsize=(10,8))\n",
    "d1=final_df.loc[final_df['InvestorsName'] == 'Info Edge (India) Ltd']\n",
    "d2=final_df.loc[final_df['InvestorsName'] == 'Kalaari Capital']\n",
    "d3=final_df.loc[final_df['InvestorsName'] == 'InnoVen Capital']\n",
    "d4=final_df.loc[final_df['InvestorsName'] == 'Indian Angel Network']\n",
    "d5=final_df.loc[final_df['InvestorsName'] == 'Brand Capital']\n",
    "d6=final_df.loc[final_df['InvestorsName'] == 'Sequoia Capital India']\n",
    "d7=final_df.loc[final_df['InvestorsName'] == 'Trifecta Capital']\n",
    "d8=final_df.loc[final_df['InvestorsName'] == 'SAccel Partners']\n",
    "d9=final_df.loc[final_df['InvestorsName'] == 'Flipkart']\n",
    "di=pd.concat([d1,d2,d3,d4,d5,d6,d7,d8,d9],axis=0,sort=True)\n",
    "g2 = sns.boxplot(x='InvestorsName', y=\"Amount (in USD)_log\", \n",
    "            data=di)\n",
    "plt.xticks(rotation=45)\n",
    "g2.set_title(\" Funding Amounts of Top 9 Investors\", fontsize=15)\n",
    "g2.set_xlabel(\"InvestorsName\", fontsize=12)\n",
    "g2.set_ylabel(\"Amount(USD)\", fontsize=12)\n",
    "plt.show()\n"
   ]
  },
  {
   "cell_type": "markdown",
   "metadata": {},
   "source": [
    "Exploring the Startup Cities"
   ]
  },
  {
   "cell_type": "code",
   "execution_count": 67,
   "metadata": {},
   "outputs": [
    {
     "name": "stdout",
     "output_type": "stream",
     "text": [
      "Bangalore    463\n",
      "Mumbai       269\n",
      "Delhi NCR    228\n",
      "New Delhi    160\n",
      "Hyderabad     54\n",
      "Pune          52\n",
      "Chennai       46\n",
      "Ahmedabad     18\n",
      "Jaipur         9\n",
      "Singapore      5\n",
      "Name: CityLocation, dtype: int64\n"
     ]
    }
   ],
   "source": [
    "#city=final_df['City/Location'].value_counts()\n",
    "#print(city)\n",
    "final_df['CityLocation']=final_df['CityLocation'].replace(['Bengaluru','Bangalore / SFO','Bangalore/ Bangkok','SFO / Bangalore','San Francisco/ Bangalore','Singapore and Bangalore'],'Bangalore')\n",
    "final_df['CityLocation']=final_df['CityLocation'].replace(['Delhi','New York and Delhi','New Delhi / US'],'New Delhi')\n",
    "final_df['CityLocation']=final_df['CityLocation'].replace(['Gurgaon','Gurugram','Noida','Haryana','Faridababd'],'Delhi NCR')\n",
    "city=final_df.CityLocation.value_counts()\n",
    "print(city[:10])"
   ]
  },
  {
   "cell_type": "code",
   "execution_count": 68,
   "metadata": {},
   "outputs": [
    {
     "data": {
      "image/png": "[encoded data removed]",
      "text/plain": [
       "<Figure size 936x504 with 1 Axes>"
      ]
     },
     "metadata": {},
     "output_type": "display_data"
    }
   ],
   "source": [
    "#Analyzing Top 10 Cities\n",
    "plt.figure(figsize=(13,7))\n",
    "\n",
    "sns.barplot(x=city.index[:10], y=city.values[:10])\n",
    "plt.xticks(rotation=45)\n",
    "plt.xlabel('City Location', fontsize=15)\n",
    "plt.ylabel('City Count', fontsize=15)\n",
    "plt.title(\"City Location Count \", fontsize=20)\n",
    "\n",
    "\n",
    "plt.show()"
   ]
  },
  {
   "cell_type": "code",
   "execution_count": 69,
   "metadata": {},
   "outputs": [
    {
     "data": {
      "image/png": "[encoded data removed]",
      "text/plain": [
       "<Figure size 936x504 with 1 Axes>"
      ]
     },
     "metadata": {},
     "output_type": "display_data"
    }
   ],
   "source": [
    "plt.figure(figsize=(13,7))\n",
    "g = sns.boxplot(x='CityLocation', y=\"Amount (in USD)_log\",\n",
    "                data=final_df[final_df.CityLocation.isin(city[:10].index.values)])\n",
    "g.set_xticklabels(g.get_xticklabels(),rotation=70)\n",
    "g.set_title(\"City Localization by Amount LogDistribuition\", fontsize=20)\n",
    "g.set_xlabel(\"Top 10 Cities\", fontsize=15)\n",
    "g.set_ylabel(\"Amount (USD) - Log\", fontsize=15)\n",
    "plt.show()"
   ]
  },
  {
   "cell_type": "markdown",
   "metadata": {},
   "source": [
    "Exploring Different sectors"
   ]
  },
  {
   "cell_type": "code",
   "execution_count": 70,
   "metadata": {},
   "outputs": [
    {
     "name": "stdout",
     "output_type": "stream",
     "text": [
      "Consumer Internet    603\n",
      "Technology           219\n",
      "eCommerce            181\n",
      "Fin-Tech              47\n",
      "Healthcare            39\n",
      "Finance               36\n",
      "Ed-Tech               27\n",
      "Logistics             21\n",
      "Education             18\n",
      "IT                    16\n",
      "Name: IndustryVertical, dtype: int64\n"
     ]
    }
   ],
   "source": [
    "final_df['IndustryVertical']=final_df['IndustryVertical'].replace(['ECommerce','E-commerce','E-Commerce','ecommerce','Ecommerce'],'eCommerce')\n",
    "final_df['IndustryVertical']=final_df['IndustryVertical'].replace(['FinTech','Fintech'],'Fin-Tech')\n",
    "final_df['IndustryVertical']=final_df['IndustryVertical'].replace(['EduTech','EdTech','Edu-tech',''],'Ed-Tech')\n",
    "sector=final_df.IndustryVertical.value_counts()\n",
    "print(sector[:10])\n"
   ]
  },
  {
   "cell_type": "code",
   "execution_count": 71,
   "metadata": {},
   "outputs": [
    {
     "data": {
      "image/png": "[encoded data removed]",
      "text/plain": [
       "<Figure size 936x504 with 1 Axes>"
      ]
     },
     "metadata": {},
     "output_type": "display_data"
    }
   ],
   "source": [
    "b1=final_df[final_df.IndustryVertical.isin(sector[:5].index.values)]\n",
    "b2=final_df[final_df.IndustryVertical.isin(sector[11:].index.values)]\n",
    "b2.IndustryVertical='others'\n",
    "industry_df=pd.concat([b1,b2],axis=0,sort=True)\n",
    "sector1=industry_df.IndustryVertical.value_counts()\n",
    "#print(sector1.values)\n",
    "\n",
    "plt.figure(figsize=(13,7))\n",
    "colors = ['yellowgreen', 'gold', 'lightskyblue', 'lightcoral','mediumorchid','peru']\n",
    "plt.pie(sector1.values,autopct='%1.1f%%',colors=colors, startangle=140)\n",
    "plt.legend(list(sector1.index), loc=\"best\")\n",
    "plt.title('Industry Wise Capture of Starup Fundings')\n",
    "plt.axis('equal')\n",
    "plt.show()"
   ]
  },
  {
   "cell_type": "code",
   "execution_count": 72,
   "metadata": {},
   "outputs": [
    {
     "data": {
      "image/png": "[encoded data removed]",
      "text/plain": [
       "<Figure size 936x504 with 1 Axes>"
      ]
     },
     "metadata": {},
     "output_type": "display_data"
    }
   ],
   "source": [
    "plt.figure(figsize=(13,7))\n",
    "sns.violinplot(x='IndustryVertical',y='Amount (in USD)_log',inner='quartile', data=b1)\n",
    "plt.legend(labels=list(sector[:5].index),loc='best')\n",
    "plt.title('Sector wise Funding distribution ')\n",
    "plt.show()"
   ]
  },
  {
   "cell_type": "markdown",
   "metadata": {},
   "source": [
    "Exploring the Date-time data"
   ]
  },
  {
   "cell_type": "code",
   "execution_count": 73,
   "metadata": {},
   "outputs": [
    {
     "data": {
      "image/png": "[encoded data removed]",
      "text/plain": [
       "<Figure size 936x504 with 1 Axes>"
      ]
     },
     "metadata": {},
     "output_type": "display_data"
    }
   ],
   "source": [
    "final_df['Date'] = pd.to_datetime(final_df['Date'],errors='coerce')\n",
    "\n",
    "final_df['Date_month_year'] = final_df['Date'].dt.to_period(\"M\")\n",
    "final_df['Date_year'] = final_df['Date'].dt.to_period(\"A\")\n",
    "\n",
    "plt.figure(figsize=(13,7))\n",
    "sns.pointplot(x='Date_year', y='Amount (in USD)_log', data=final_df)\n",
    "#plt.xticks(rotation=70)\n",
    "plt.xlabel('Year', fontsize=12)\n",
    "plt.ylabel('Amount Distribuition Log', fontsize=12)\n",
    "plt.title(\" Year wise Money Distribuition\", fontsize=16)\n",
    "plt.show()"
   ]
  },
  {
   "cell_type": "code",
   "execution_count": 102,
   "metadata": {},
   "outputs": [
    {
     "data": {
      "image/png": "[encoded data removed]",
      "text/plain": [
       "<Figure size 576x360 with 1 Axes>"
      ]
     },
     "metadata": {},
     "output_type": "display_data"
    }
   ],
   "source": [
    "#Exploring the relationship between the progress and the amount of funding for startups\n",
    "\n",
    "page1=requests.get('https://www.orfonline.org/research/the-indian-startup-ecosystem-drivers-challenges-and-pillars-of-support-55387/')\n",
    "soup1=BeautifulSoup(page1.content,'html.parser')\n",
    "tarr = soup1.find('tbody')\n",
    "#print(tarr.text)\n",
    "\n",
    "#we can see the total valuation of Indian startup which we will use to plot \n",
    "d1_df=final_df.loc[final_df['StartupName']=='Snapdeal']\n",
    "d1=d1_df['Amount (in USD)'].sum()\n",
    "d2_df=final_df.loc[final_df['StartupName']=='Ola Cabs']\n",
    "d2=d2_df['Amount (in USD)'].sum()\n",
    "d3_df=final_df.loc[final_df['StartupName']=='One97 Communciations']\n",
    "d3=d3_df['Amount (in USD)'].sum()\n",
    "d4_df=final_df.loc[final_df['StartupName']=='Hike']\n",
    "d4=d4_df['Amount (in USD)'].sum()\n",
    "d5_df=final_df.loc[final_df['StartupName']=='Udaan']\n",
    "d5=d5_df['Amount (in USD)'].sum()\n",
    "d6_df=final_df.loc[final_df['StartupName']=='BillDesk']\n",
    "d6=d6_df['Amount (in USD)'].sum()\n",
    "d7_df=final_df.loc[final_df['StartupName']=='Delhivery']\n",
    "d7=d7_df['Amount (in USD)'].sum()\n",
    "d8_df=final_df.loc[final_df['StartupName']=='PolicyBazaar']\n",
    "d8=d8_df['Amount (in USD)'].sum()\n",
    "d9_df=final_df.loc[final_df['StartupName']=='Zomato']\n",
    "d9=d9_df['Amount (in USD)'].sum()\n",
    "d10_df=final_df.loc[final_df['StartupName']=='Swiggy']\n",
    "d10=d10_df['Amount (in USD)'].sum()\n",
    "d11_df=final_df.loc[final_df['StartupName']=='OYO Rooms']\n",
    "d11=d11_df['Amount (in USD)'].sum()\n",
    "d12_df=final_df.loc[final_df['StartupName']=='ReNew Power']\n",
    "d12=d12_df['Amount (in USD)'].sum()\n",
    "d13_df=final_df.loc[final_df['StartupName']=='BYJU’S']\n",
    "d13=d13_df['Amount (in USD)'].sum()\n",
    "d14_df=final_df.loc[final_df['StartupName']=='Rivigo']\n",
    "d14=d14_df['Amount (in USD)'].sum()\n",
    "d15_df=final_df.loc[final_df['StartupName']=='Ola Electric Mobility']\n",
    "d15=d15_df['Amount (in USD)'].sum()\n",
    "d16_df=final_df.loc[final_df['StartupName']=='Dream11']\n",
    "d16=d16_df['Amount (in USD)'].sum()\n",
    "d17_df=final_df.loc[final_df['StartupName']=='BigBasket']\n",
    "d17=d17_df['Amount (in USD)'].sum()\n",
    "q=list([d1,d2,d4,d5,d7,d8,d9,d10,d13,d14,d16,d17])\n",
    "#print(q)\n",
    "p=[7,6.2,1.4,1,1.6,1,2.18,3.3,5.75,1,1,1] \n",
    "p=[i *1000000000 for i in p]\n",
    "#print(p)\n",
    "plt.figure(figsize=(8,5))\n",
    "plt.scatter(q,p)\n",
    "plt.title(' Funding Amount vs Market Valuation (USD)')\n",
    "plt.xlabel('Funding Amount')\n",
    "plt.ylabel('MArket Valuation')\n",
    "plt.show()\n",
    "\n"
   ]
  },
  {
   "cell_type": "code",
   "execution_count": 149,
   "metadata": {},
   "outputs": [
    {
     "name": "stdout",
     "output_type": "stream",
     "text": [
      "(388, 11)\n"
     ]
    }
   ],
   "source": [
    "# Exploring the startups in New Delhi\n",
    "final_df['CityLocation']=final_df['CityLocation'].replace(['New Delhi','Delhi NCR'],'Delhi')\n",
    "t=final_df.loc[final_df['CityLocation']=='Delhi']\n",
    "t.sort_values(by='Date',inplace=True)\n",
    "t.reset_index(inplace=True)\n",
    "t.drop('index',axis='columns',inplace=True)\n",
    "print(t.shape)\n",
    "    \n"
   ]
  },
  {
   "cell_type": "code",
   "execution_count": 164,
   "metadata": {},
   "outputs": [
    {
     "data": {
      "image/png": "[encoded data removed]",
      "text/plain": [
       "<Figure size 1224x360 with 1 Axes>"
      ]
     },
     "metadata": {},
     "output_type": "display_data"
    }
   ],
   "source": [
    "#for 2016\n",
    "plt.figure(figsize=(17,5))\n",
    "plt.plot(t.iloc[:180]['Date'],t.iloc[:180]['Amount (in USD)'])\n",
    "plt.ylabel('Funding Amount')\n",
    "plt.title('Series Plot for Startup Fundings (2016)')\n",
    "plt.show()"
   ]
  },
  {
   "cell_type": "code",
   "execution_count": 165,
   "metadata": {},
   "outputs": [
    {
     "data": {
      "image/png": "[encoded data removed]",
      "text/plain": [
       "<Figure size 1224x360 with 1 Axes>"
      ]
     },
     "metadata": {},
     "output_type": "display_data"
    }
   ],
   "source": [
    "#for 2017\n",
    "plt.figure(figsize=(17,5))\n",
    "plt.plot(t.iloc[180:260]['Date'],t.iloc[180:260]['Amount (in USD)'])\n",
    "plt.ylabel('Funding Amount')\n",
    "plt.title('Series Plot for Startup Fundings (2017)')\n",
    "plt.show()"
   ]
  },
  {
   "cell_type": "code",
   "execution_count": 169,
   "metadata": {},
   "outputs": [
    {
     "data": {
      "image/png": "[encoded data removed]",
      "text/plain": [
       "<Figure size 1224x360 with 1 Axes>"
      ]
     },
     "metadata": {},
     "output_type": "display_data"
    }
   ],
   "source": [
    "#for 2018-2021\n",
    "plt.figure(figsize=(17,5))\n",
    "plt.plot(t.iloc[260:]['Date'],t.iloc[260:]['Amount (in USD)'])\n",
    "plt.ylabel('Funding Amount')\n",
    "plt.title('Series Plot for Startup Fundings (2018-2021)')\n",
    "plt.show()"
   ]
  },
  {
   "cell_type": "code",
   "execution_count": 171,
   "metadata": {},
   "outputs": [
    {
     "name": "stdout",
     "output_type": "stream",
     "text": [
      "Minimum Funding: 22500.0 USD\n",
      "Maximum Funding: 1000000000.0 USD\n",
      "Median Funding: 1900000.0 USD\n",
      "Mean Funding: 13930149.83 USD\n",
      "Std. Deviation: 58825367.07 USD\n"
     ]
    }
   ],
   "source": [
    "#Fundings in Delhi\n",
    "print('Minimum Funding: ' + str(t['Amount (in USD)'].min())+ ' USD')\n",
    "print('Maximum Funding: ' + str(t['Amount (in USD)'].max())+ ' USD')\n",
    "print('Median Funding: ' + str(t['Amount (in USD)'].median())+ ' USD')\n",
    "print('Mean Funding: ' + str(round(t['Amount (in USD)'].mean(),2))+ ' USD')\n",
    "print('Std. Deviation: ' + str(round(t['Amount (in USD)'].std(),2))+ ' USD')\n"
   ]
  },
  {
   "cell_type": "code",
   "execution_count": 185,
   "metadata": {},
   "outputs": [
    {
     "data": {
      "text/html": [
       "<div>\n",
       "<style scoped>\n",
       "    .dataframe tbody tr th:only-of-type {\n",
       "        vertical-align: middle;\n",
       "    }\n",
       "\n",
       "    .dataframe tbody tr th {\n",
       "        vertical-align: top;\n",
       "    }\n",
       "\n",
       "    .dataframe thead th {\n",
       "        text-align: right;\n",
       "    }\n",
       "</style>\n",
       "<table border=\"1\" class=\"dataframe\">\n",
       "  <thead>\n",
       "    <tr style=\"text-align: right;\">\n",
       "      <th></th>\n",
       "      <th>Amount (in USD)</th>\n",
       "      <th>CityLocation</th>\n",
       "      <th>Date</th>\n",
       "      <th>IndustryVertical</th>\n",
       "      <th>InvestmentType</th>\n",
       "      <th>InvestorsName</th>\n",
       "      <th>StartupName</th>\n",
       "      <th>Subvertical</th>\n",
       "      <th>Amount (in USD)_log</th>\n",
       "      <th>Date_month_year</th>\n",
       "      <th>Date_year</th>\n",
       "    </tr>\n",
       "  </thead>\n",
       "  <tbody>\n",
       "    <tr>\n",
       "      <th>352</th>\n",
       "      <td>1.000000e+09</td>\n",
       "      <td>Delhi</td>\n",
       "      <td>2019-11-25</td>\n",
       "      <td>Fin-Tech</td>\n",
       "      <td>Funding Round</td>\n",
       "      <td>Vijay Shekhar Sharma</td>\n",
       "      <td>Paytm</td>\n",
       "      <td>Mobile Wallet</td>\n",
       "      <td>20.723266</td>\n",
       "      <td>2019-11</td>\n",
       "      <td>2019</td>\n",
       "    </tr>\n",
       "  </tbody>\n",
       "</table>\n",
       "</div>"
      ],
      "text/plain": [
       "     Amount (in USD) CityLocation       Date IndustryVertical  InvestmentType  \\\n",
       "352     1.000000e+09        Delhi 2019-11-25         Fin-Tech  Funding Round    \n",
       "\n",
       "            InvestorsName StartupName    Subvertical  Amount (in USD)_log  \\\n",
       "352  Vijay Shekhar Sharma       Paytm  Mobile Wallet            20.723266   \n",
       "\n",
       "    Date_month_year Date_year  \n",
       "352         2019-11      2019  "
      ]
     },
     "execution_count": 185,
     "metadata": {},
     "output_type": "execute_result"
    }
   ],
   "source": [
    "#startup details with the maximum funding of 1000000000.0 USD\n",
    "k=t.loc[t['Amount (in USD)']==t['Amount (in USD)'].max()]\n",
    "k"
   ]
  },
  {
   "cell_type": "markdown",
   "metadata": {},
   "source": [
    "# Predictive Model for startup success\n"
   ]
  },
  {
   "cell_type": "code",
   "execution_count": 3,
   "metadata": {},
   "outputs": [],
   "source": [
    "train  = pd.read_csv(\"training_set_label.csv\")\n",
    "test = pd.read_csv(\"testing_set_label.csv\")"
   ]
  },
  {
   "cell_type": "code",
   "execution_count": 4,
   "metadata": {},
   "outputs": [
    {
     "data": {
      "text/plain": [
       "((923, 48), (231, 47))"
      ]
     },
     "execution_count": 4,
     "metadata": {},
     "output_type": "execute_result"
    }
   ],
   "source": [
    "train.shape, test.shape"
   ]
  },
  {
   "cell_type": "code",
   "execution_count": 5,
   "metadata": {},
   "outputs": [
    {
     "data": {
      "text/html": [
       "<div>\n",
       "<style scoped>\n",
       "    .dataframe tbody tr th:only-of-type {\n",
       "        vertical-align: middle;\n",
       "    }\n",
       "\n",
       "    .dataframe tbody tr th {\n",
       "        vertical-align: top;\n",
       "    }\n",
       "\n",
       "    .dataframe thead th {\n",
       "        text-align: right;\n",
       "    }\n",
       "</style>\n",
       "<table border=\"1\" class=\"dataframe\">\n",
       "  <thead>\n",
       "    <tr style=\"text-align: right;\">\n",
       "      <th></th>\n",
       "      <th>Unnamed: 0</th>\n",
       "      <th>state_code</th>\n",
       "      <th>latitude</th>\n",
       "      <th>longitude</th>\n",
       "      <th>zip_code</th>\n",
       "      <th>id</th>\n",
       "      <th>city</th>\n",
       "      <th>Unnamed: 6</th>\n",
       "      <th>name</th>\n",
       "      <th>founded_at</th>\n",
       "      <th>...</th>\n",
       "      <th>object_id</th>\n",
       "      <th>has_VC</th>\n",
       "      <th>has_angel</th>\n",
       "      <th>has_roundA</th>\n",
       "      <th>has_roundB</th>\n",
       "      <th>has_roundC</th>\n",
       "      <th>has_roundD</th>\n",
       "      <th>avg_participants</th>\n",
       "      <th>is_top500</th>\n",
       "      <th>status</th>\n",
       "    </tr>\n",
       "  </thead>\n",
       "  <tbody>\n",
       "    <tr>\n",
       "      <th>0</th>\n",
       "      <td>1005</td>\n",
       "      <td>CA</td>\n",
       "      <td>42.358880</td>\n",
       "      <td>-71.056820</td>\n",
       "      <td>92101</td>\n",
       "      <td>c:6669</td>\n",
       "      <td>San Diego</td>\n",
       "      <td>NaN</td>\n",
       "      <td>Bandsintown</td>\n",
       "      <td>01-01-07</td>\n",
       "      <td>...</td>\n",
       "      <td>c:6669</td>\n",
       "      <td>0</td>\n",
       "      <td>1</td>\n",
       "      <td>0</td>\n",
       "      <td>0</td>\n",
       "      <td>0</td>\n",
       "      <td>0</td>\n",
       "      <td>1.0000</td>\n",
       "      <td>0</td>\n",
       "      <td>acquired</td>\n",
       "    </tr>\n",
       "    <tr>\n",
       "      <th>1</th>\n",
       "      <td>204</td>\n",
       "      <td>CA</td>\n",
       "      <td>37.238916</td>\n",
       "      <td>-121.973718</td>\n",
       "      <td>95032</td>\n",
       "      <td>c:16283</td>\n",
       "      <td>Los Gatos</td>\n",
       "      <td>NaN</td>\n",
       "      <td>TriCipher</td>\n",
       "      <td>01-01-00</td>\n",
       "      <td>...</td>\n",
       "      <td>c:16283</td>\n",
       "      <td>1</td>\n",
       "      <td>0</td>\n",
       "      <td>0</td>\n",
       "      <td>1</td>\n",
       "      <td>1</td>\n",
       "      <td>1</td>\n",
       "      <td>4.7500</td>\n",
       "      <td>1</td>\n",
       "      <td>acquired</td>\n",
       "    </tr>\n",
       "    <tr>\n",
       "      <th>2</th>\n",
       "      <td>1001</td>\n",
       "      <td>CA</td>\n",
       "      <td>32.901049</td>\n",
       "      <td>-117.192656</td>\n",
       "      <td>92121</td>\n",
       "      <td>c:65620</td>\n",
       "      <td>San Diego</td>\n",
       "      <td>San Diego CA 92121</td>\n",
       "      <td>Plixi</td>\n",
       "      <td>3/18/2009</td>\n",
       "      <td>...</td>\n",
       "      <td>c:65620</td>\n",
       "      <td>0</td>\n",
       "      <td>0</td>\n",
       "      <td>1</td>\n",
       "      <td>0</td>\n",
       "      <td>0</td>\n",
       "      <td>0</td>\n",
       "      <td>4.0000</td>\n",
       "      <td>1</td>\n",
       "      <td>acquired</td>\n",
       "    </tr>\n",
       "    <tr>\n",
       "      <th>3</th>\n",
       "      <td>738</td>\n",
       "      <td>CA</td>\n",
       "      <td>37.320309</td>\n",
       "      <td>-122.050040</td>\n",
       "      <td>95014</td>\n",
       "      <td>c:42668</td>\n",
       "      <td>Cupertino</td>\n",
       "      <td>Cupertino CA 95014</td>\n",
       "      <td>Solidcore Systems</td>\n",
       "      <td>01-01-02</td>\n",
       "      <td>...</td>\n",
       "      <td>c:42668</td>\n",
       "      <td>0</td>\n",
       "      <td>0</td>\n",
       "      <td>0</td>\n",
       "      <td>1</td>\n",
       "      <td>1</td>\n",
       "      <td>1</td>\n",
       "      <td>3.3333</td>\n",
       "      <td>1</td>\n",
       "      <td>acquired</td>\n",
       "    </tr>\n",
       "    <tr>\n",
       "      <th>4</th>\n",
       "      <td>1002</td>\n",
       "      <td>CA</td>\n",
       "      <td>37.779281</td>\n",
       "      <td>-122.419236</td>\n",
       "      <td>94105</td>\n",
       "      <td>c:65806</td>\n",
       "      <td>San Francisco</td>\n",
       "      <td>San Francisco CA 94105</td>\n",
       "      <td>Inhale Digital</td>\n",
       "      <td>08-01-10</td>\n",
       "      <td>...</td>\n",
       "      <td>c:65806</td>\n",
       "      <td>1</td>\n",
       "      <td>1</td>\n",
       "      <td>0</td>\n",
       "      <td>0</td>\n",
       "      <td>0</td>\n",
       "      <td>0</td>\n",
       "      <td>1.0000</td>\n",
       "      <td>1</td>\n",
       "      <td>closed</td>\n",
       "    </tr>\n",
       "  </tbody>\n",
       "</table>\n",
       "<p>5 rows × 48 columns</p>\n",
       "</div>"
      ],
      "text/plain": [
       "   Unnamed: 0 state_code   latitude   longitude zip_code       id  \\\n",
       "0        1005         CA  42.358880  -71.056820    92101   c:6669   \n",
       "1         204         CA  37.238916 -121.973718    95032  c:16283   \n",
       "2        1001         CA  32.901049 -117.192656    92121  c:65620   \n",
       "3         738         CA  37.320309 -122.050040    95014  c:42668   \n",
       "4        1002         CA  37.779281 -122.419236    94105  c:65806   \n",
       "\n",
       "            city              Unnamed: 6               name founded_at  \\\n",
       "0      San Diego                     NaN        Bandsintown   01-01-07   \n",
       "1      Los Gatos                     NaN          TriCipher   01-01-00   \n",
       "2      San Diego      San Diego CA 92121              Plixi  3/18/2009   \n",
       "3      Cupertino      Cupertino CA 95014  Solidcore Systems   01-01-02   \n",
       "4  San Francisco  San Francisco CA 94105     Inhale Digital   08-01-10   \n",
       "\n",
       "     ...    object_id has_VC has_angel  has_roundA  has_roundB  has_roundC  \\\n",
       "0    ...       c:6669      0         1           0           0           0   \n",
       "1    ...      c:16283      1         0           0           1           1   \n",
       "2    ...      c:65620      0         0           1           0           0   \n",
       "3    ...      c:42668      0         0           0           1           1   \n",
       "4    ...      c:65806      1         1           0           0           0   \n",
       "\n",
       "   has_roundD  avg_participants  is_top500    status  \n",
       "0           0            1.0000          0  acquired  \n",
       "1           1            4.7500          1  acquired  \n",
       "2           0            4.0000          1  acquired  \n",
       "3           1            3.3333          1  acquired  \n",
       "4           0            1.0000          1    closed  \n",
       "\n",
       "[5 rows x 48 columns]"
      ]
     },
     "execution_count": 5,
     "metadata": {},
     "output_type": "execute_result"
    }
   ],
   "source": [
    "train.head()"
   ]
  },
  {
   "cell_type": "code",
   "execution_count": 6,
   "metadata": {},
   "outputs": [
    {
     "data": {
      "text/html": [
       "<div>\n",
       "<style scoped>\n",
       "    .dataframe tbody tr th:only-of-type {\n",
       "        vertical-align: middle;\n",
       "    }\n",
       "\n",
       "    .dataframe tbody tr th {\n",
       "        vertical-align: top;\n",
       "    }\n",
       "\n",
       "    .dataframe thead th {\n",
       "        text-align: right;\n",
       "    }\n",
       "</style>\n",
       "<table border=\"1\" class=\"dataframe\">\n",
       "  <thead>\n",
       "    <tr style=\"text-align: right;\">\n",
       "      <th></th>\n",
       "      <th>Unnamed: 0</th>\n",
       "      <th>state_code</th>\n",
       "      <th>latitude</th>\n",
       "      <th>longitude</th>\n",
       "      <th>zip_code</th>\n",
       "      <th>id</th>\n",
       "      <th>city</th>\n",
       "      <th>Unnamed: 6</th>\n",
       "      <th>name</th>\n",
       "      <th>founded_at</th>\n",
       "      <th>...</th>\n",
       "      <th>is_othercategory</th>\n",
       "      <th>object_id</th>\n",
       "      <th>has_VC</th>\n",
       "      <th>has_angel</th>\n",
       "      <th>has_roundA</th>\n",
       "      <th>has_roundB</th>\n",
       "      <th>has_roundC</th>\n",
       "      <th>has_roundD</th>\n",
       "      <th>avg_participants</th>\n",
       "      <th>is_top500</th>\n",
       "    </tr>\n",
       "  </thead>\n",
       "  <tbody>\n",
       "    <tr>\n",
       "      <th>0</th>\n",
       "      <td>127</td>\n",
       "      <td>CT</td>\n",
       "      <td>41.321520</td>\n",
       "      <td>-72.929423</td>\n",
       "      <td>6511</td>\n",
       "      <td>c:14666</td>\n",
       "      <td>New Haven</td>\n",
       "      <td>NaN</td>\n",
       "      <td>REMOTV</td>\n",
       "      <td>02-10-07</td>\n",
       "      <td>...</td>\n",
       "      <td>0</td>\n",
       "      <td>c:14666</td>\n",
       "      <td>0</td>\n",
       "      <td>1</td>\n",
       "      <td>1</td>\n",
       "      <td>1</td>\n",
       "      <td>0</td>\n",
       "      <td>0</td>\n",
       "      <td>1.3333</td>\n",
       "      <td>1</td>\n",
       "    </tr>\n",
       "    <tr>\n",
       "      <th>1</th>\n",
       "      <td>556</td>\n",
       "      <td>CA</td>\n",
       "      <td>37.452084</td>\n",
       "      <td>-122.112879</td>\n",
       "      <td>94303</td>\n",
       "      <td>c:31546</td>\n",
       "      <td>Palo Alto</td>\n",
       "      <td>NaN</td>\n",
       "      <td>Satiety</td>\n",
       "      <td>01-01-00</td>\n",
       "      <td>...</td>\n",
       "      <td>1</td>\n",
       "      <td>c:31546</td>\n",
       "      <td>0</td>\n",
       "      <td>0</td>\n",
       "      <td>0</td>\n",
       "      <td>0</td>\n",
       "      <td>0</td>\n",
       "      <td>1</td>\n",
       "      <td>6.0000</td>\n",
       "      <td>1</td>\n",
       "    </tr>\n",
       "    <tr>\n",
       "      <th>2</th>\n",
       "      <td>812</td>\n",
       "      <td>NJ</td>\n",
       "      <td>40.296222</td>\n",
       "      <td>-74.050972</td>\n",
       "      <td>7724</td>\n",
       "      <td>c:46259</td>\n",
       "      <td>Eatontown</td>\n",
       "      <td>Eatontown NJ 7724</td>\n",
       "      <td>CebaTech</td>\n",
       "      <td>01-01-04</td>\n",
       "      <td>...</td>\n",
       "      <td>0</td>\n",
       "      <td>c:46259</td>\n",
       "      <td>0</td>\n",
       "      <td>0</td>\n",
       "      <td>0</td>\n",
       "      <td>1</td>\n",
       "      <td>1</td>\n",
       "      <td>0</td>\n",
       "      <td>2.0000</td>\n",
       "      <td>0</td>\n",
       "    </tr>\n",
       "    <tr>\n",
       "      <th>3</th>\n",
       "      <td>106</td>\n",
       "      <td>CA</td>\n",
       "      <td>37.789268</td>\n",
       "      <td>-122.395184</td>\n",
       "      <td>94105</td>\n",
       "      <td>c:139</td>\n",
       "      <td>San Francisco</td>\n",
       "      <td>NaN</td>\n",
       "      <td>Swivel</td>\n",
       "      <td>12-01-05</td>\n",
       "      <td>...</td>\n",
       "      <td>1</td>\n",
       "      <td>c:139</td>\n",
       "      <td>0</td>\n",
       "      <td>0</td>\n",
       "      <td>1</td>\n",
       "      <td>0</td>\n",
       "      <td>0</td>\n",
       "      <td>0</td>\n",
       "      <td>1.0000</td>\n",
       "      <td>0</td>\n",
       "    </tr>\n",
       "    <tr>\n",
       "      <th>4</th>\n",
       "      <td>434</td>\n",
       "      <td>CA</td>\n",
       "      <td>33.133240</td>\n",
       "      <td>-117.275027</td>\n",
       "      <td>92011</td>\n",
       "      <td>c:25449</td>\n",
       "      <td>Carlsbad</td>\n",
       "      <td>NaN</td>\n",
       "      <td>PhotoThera</td>\n",
       "      <td>05-01-97</td>\n",
       "      <td>...</td>\n",
       "      <td>0</td>\n",
       "      <td>c:25449</td>\n",
       "      <td>0</td>\n",
       "      <td>0</td>\n",
       "      <td>0</td>\n",
       "      <td>0</td>\n",
       "      <td>1</td>\n",
       "      <td>1</td>\n",
       "      <td>5.5000</td>\n",
       "      <td>1</td>\n",
       "    </tr>\n",
       "  </tbody>\n",
       "</table>\n",
       "<p>5 rows × 47 columns</p>\n",
       "</div>"
      ],
      "text/plain": [
       "   Unnamed: 0 state_code   latitude   longitude zip_code       id  \\\n",
       "0         127         CT  41.321520  -72.929423     6511  c:14666   \n",
       "1         556         CA  37.452084 -122.112879    94303  c:31546   \n",
       "2         812         NJ  40.296222  -74.050972     7724  c:46259   \n",
       "3         106         CA  37.789268 -122.395184    94105    c:139   \n",
       "4         434         CA  33.133240 -117.275027    92011  c:25449   \n",
       "\n",
       "            city         Unnamed: 6        name founded_at    ...      \\\n",
       "0      New Haven                NaN      REMOTV   02-10-07    ...       \n",
       "1      Palo Alto                NaN     Satiety   01-01-00    ...       \n",
       "2      Eatontown  Eatontown NJ 7724    CebaTech   01-01-04    ...       \n",
       "3  San Francisco                NaN      Swivel   12-01-05    ...       \n",
       "4       Carlsbad                NaN  PhotoThera   05-01-97    ...       \n",
       "\n",
       "  is_othercategory object_id has_VC  has_angel  has_roundA  has_roundB  \\\n",
       "0                0   c:14666      0          1           1           1   \n",
       "1                1   c:31546      0          0           0           0   \n",
       "2                0   c:46259      0          0           0           1   \n",
       "3                1     c:139      0          0           1           0   \n",
       "4                0   c:25449      0          0           0           0   \n",
       "\n",
       "   has_roundC  has_roundD  avg_participants  is_top500  \n",
       "0           0           0            1.3333          1  \n",
       "1           0           1            6.0000          1  \n",
       "2           1           0            2.0000          0  \n",
       "3           0           0            1.0000          0  \n",
       "4           1           1            5.5000          1  \n",
       "\n",
       "[5 rows x 47 columns]"
      ]
     },
     "execution_count": 6,
     "metadata": {},
     "output_type": "execute_result"
    }
   ],
   "source": [
    "test.head()"
   ]
  },
  {
   "cell_type": "markdown",
   "metadata": {},
   "source": [
    "Pre-processing of Data"
   ]
  },
  {
   "cell_type": "code",
   "execution_count": 7,
   "metadata": {},
   "outputs": [
    {
     "name": "stdout",
     "output_type": "stream",
     "text": [
      "<class 'pandas.core.frame.DataFrame'>\n",
      "RangeIndex: 923 entries, 0 to 922\n",
      "Data columns (total 48 columns):\n",
      "Unnamed: 0                  923 non-null int64\n",
      "state_code                  923 non-null object\n",
      "latitude                    923 non-null float64\n",
      "longitude                   923 non-null float64\n",
      "zip_code                    923 non-null object\n",
      "id                          923 non-null object\n",
      "city                        923 non-null object\n",
      "Unnamed: 6                  430 non-null object\n",
      "name                        923 non-null object\n",
      "founded_at                  923 non-null object\n",
      "closed_at                   335 non-null object\n",
      "first_funding_at            923 non-null object\n",
      "last_funding_at             923 non-null object\n",
      "age_first_funding_year      923 non-null float64\n",
      "age_last_funding_year       923 non-null float64\n",
      "age_first_milestone_year    771 non-null float64\n",
      "age_last_milestone_year     771 non-null float64\n",
      "relationships               923 non-null int64\n",
      "funding_rounds              923 non-null int64\n",
      "funding_total_usd           923 non-null int64\n",
      "milestones                  923 non-null int64\n",
      "state_code.1                922 non-null object\n",
      "is_CA                       923 non-null int64\n",
      "is_NY                       923 non-null int64\n",
      "is_MA                       923 non-null int64\n",
      "is_TX                       923 non-null int64\n",
      "is_otherstate               923 non-null int64\n",
      "category_code               923 non-null object\n",
      "is_software                 923 non-null int64\n",
      "is_web                      923 non-null int64\n",
      "is_mobile                   923 non-null int64\n",
      "is_enterprise               923 non-null int64\n",
      "is_advertising              923 non-null int64\n",
      "is_gamesvideo               923 non-null int64\n",
      "is_ecommerce                923 non-null int64\n",
      "is_biotech                  923 non-null int64\n",
      "is_consulting               923 non-null int64\n",
      "is_othercategory            923 non-null int64\n",
      "object_id                   923 non-null object\n",
      "has_VC                      923 non-null int64\n",
      "has_angel                   923 non-null int64\n",
      "has_roundA                  923 non-null int64\n",
      "has_roundB                  923 non-null int64\n",
      "has_roundC                  923 non-null int64\n",
      "has_roundD                  923 non-null int64\n",
      "avg_participants            923 non-null float64\n",
      "is_top500                   923 non-null int64\n",
      "status                      923 non-null object\n",
      "dtypes: float64(7), int64(27), object(14)\n",
      "memory usage: 346.2+ KB\n"
     ]
    }
   ],
   "source": [
    "train.info()"
   ]
  },
  {
   "cell_type": "code",
   "execution_count": 8,
   "metadata": {},
   "outputs": [
    {
     "data": {
      "text/html": [
       "<div>\n",
       "<style scoped>\n",
       "    .dataframe tbody tr th:only-of-type {\n",
       "        vertical-align: middle;\n",
       "    }\n",
       "\n",
       "    .dataframe tbody tr th {\n",
       "        vertical-align: top;\n",
       "    }\n",
       "\n",
       "    .dataframe thead th {\n",
       "        text-align: right;\n",
       "    }\n",
       "</style>\n",
       "<table border=\"1\" class=\"dataframe\">\n",
       "  <thead>\n",
       "    <tr style=\"text-align: right;\">\n",
       "      <th></th>\n",
       "      <th>Unnamed: 0</th>\n",
       "      <th>latitude</th>\n",
       "      <th>longitude</th>\n",
       "      <th>age_first_funding_year</th>\n",
       "      <th>age_last_funding_year</th>\n",
       "      <th>age_first_milestone_year</th>\n",
       "      <th>age_last_milestone_year</th>\n",
       "      <th>relationships</th>\n",
       "      <th>funding_rounds</th>\n",
       "      <th>funding_total_usd</th>\n",
       "      <th>...</th>\n",
       "      <th>is_consulting</th>\n",
       "      <th>is_othercategory</th>\n",
       "      <th>has_VC</th>\n",
       "      <th>has_angel</th>\n",
       "      <th>has_roundA</th>\n",
       "      <th>has_roundB</th>\n",
       "      <th>has_roundC</th>\n",
       "      <th>has_roundD</th>\n",
       "      <th>avg_participants</th>\n",
       "      <th>is_top500</th>\n",
       "    </tr>\n",
       "  </thead>\n",
       "  <tbody>\n",
       "    <tr>\n",
       "      <th>count</th>\n",
       "      <td>923.000000</td>\n",
       "      <td>923.000000</td>\n",
       "      <td>923.000000</td>\n",
       "      <td>923.000000</td>\n",
       "      <td>923.000000</td>\n",
       "      <td>771.000000</td>\n",
       "      <td>771.000000</td>\n",
       "      <td>923.000000</td>\n",
       "      <td>923.000000</td>\n",
       "      <td>9.230000e+02</td>\n",
       "      <td>...</td>\n",
       "      <td>923.000000</td>\n",
       "      <td>923.000000</td>\n",
       "      <td>923.000000</td>\n",
       "      <td>923.000000</td>\n",
       "      <td>923.000000</td>\n",
       "      <td>923.000000</td>\n",
       "      <td>923.000000</td>\n",
       "      <td>923.000000</td>\n",
       "      <td>923.000000</td>\n",
       "      <td>923.000000</td>\n",
       "    </tr>\n",
       "    <tr>\n",
       "      <th>mean</th>\n",
       "      <td>572.297941</td>\n",
       "      <td>38.517442</td>\n",
       "      <td>-103.539212</td>\n",
       "      <td>2.235630</td>\n",
       "      <td>3.931456</td>\n",
       "      <td>3.055353</td>\n",
       "      <td>4.754423</td>\n",
       "      <td>7.710726</td>\n",
       "      <td>2.310943</td>\n",
       "      <td>2.541975e+07</td>\n",
       "      <td>...</td>\n",
       "      <td>0.003250</td>\n",
       "      <td>0.322860</td>\n",
       "      <td>0.326111</td>\n",
       "      <td>0.254605</td>\n",
       "      <td>0.508126</td>\n",
       "      <td>0.392199</td>\n",
       "      <td>0.232936</td>\n",
       "      <td>0.099675</td>\n",
       "      <td>2.838586</td>\n",
       "      <td>0.809317</td>\n",
       "    </tr>\n",
       "    <tr>\n",
       "      <th>std</th>\n",
       "      <td>333.585431</td>\n",
       "      <td>3.741497</td>\n",
       "      <td>22.394167</td>\n",
       "      <td>2.510449</td>\n",
       "      <td>2.967910</td>\n",
       "      <td>2.977057</td>\n",
       "      <td>3.212107</td>\n",
       "      <td>7.265776</td>\n",
       "      <td>1.390922</td>\n",
       "      <td>1.896344e+08</td>\n",
       "      <td>...</td>\n",
       "      <td>0.056949</td>\n",
       "      <td>0.467823</td>\n",
       "      <td>0.469042</td>\n",
       "      <td>0.435875</td>\n",
       "      <td>0.500205</td>\n",
       "      <td>0.488505</td>\n",
       "      <td>0.422931</td>\n",
       "      <td>0.299729</td>\n",
       "      <td>1.874601</td>\n",
       "      <td>0.393052</td>\n",
       "    </tr>\n",
       "    <tr>\n",
       "      <th>min</th>\n",
       "      <td>1.000000</td>\n",
       "      <td>25.752358</td>\n",
       "      <td>-122.756956</td>\n",
       "      <td>-9.046600</td>\n",
       "      <td>-9.046600</td>\n",
       "      <td>-14.169900</td>\n",
       "      <td>-7.005500</td>\n",
       "      <td>0.000000</td>\n",
       "      <td>1.000000</td>\n",
       "      <td>1.100000e+04</td>\n",
       "      <td>...</td>\n",
       "      <td>0.000000</td>\n",
       "      <td>0.000000</td>\n",
       "      <td>0.000000</td>\n",
       "      <td>0.000000</td>\n",
       "      <td>0.000000</td>\n",
       "      <td>0.000000</td>\n",
       "      <td>0.000000</td>\n",
       "      <td>0.000000</td>\n",
       "      <td>1.000000</td>\n",
       "      <td>0.000000</td>\n",
       "    </tr>\n",
       "    <tr>\n",
       "      <th>25%</th>\n",
       "      <td>283.500000</td>\n",
       "      <td>37.388869</td>\n",
       "      <td>-122.198732</td>\n",
       "      <td>0.576700</td>\n",
       "      <td>1.669850</td>\n",
       "      <td>1.000000</td>\n",
       "      <td>2.411000</td>\n",
       "      <td>3.000000</td>\n",
       "      <td>1.000000</td>\n",
       "      <td>2.725000e+06</td>\n",
       "      <td>...</td>\n",
       "      <td>0.000000</td>\n",
       "      <td>0.000000</td>\n",
       "      <td>0.000000</td>\n",
       "      <td>0.000000</td>\n",
       "      <td>0.000000</td>\n",
       "      <td>0.000000</td>\n",
       "      <td>0.000000</td>\n",
       "      <td>0.000000</td>\n",
       "      <td>1.500000</td>\n",
       "      <td>1.000000</td>\n",
       "    </tr>\n",
       "    <tr>\n",
       "      <th>50%</th>\n",
       "      <td>577.000000</td>\n",
       "      <td>37.779281</td>\n",
       "      <td>-118.374037</td>\n",
       "      <td>1.446600</td>\n",
       "      <td>3.528800</td>\n",
       "      <td>2.520500</td>\n",
       "      <td>4.476700</td>\n",
       "      <td>5.000000</td>\n",
       "      <td>2.000000</td>\n",
       "      <td>1.000000e+07</td>\n",
       "      <td>...</td>\n",
       "      <td>0.000000</td>\n",
       "      <td>0.000000</td>\n",
       "      <td>0.000000</td>\n",
       "      <td>0.000000</td>\n",
       "      <td>1.000000</td>\n",
       "      <td>0.000000</td>\n",
       "      <td>0.000000</td>\n",
       "      <td>0.000000</td>\n",
       "      <td>2.500000</td>\n",
       "      <td>1.000000</td>\n",
       "    </tr>\n",
       "    <tr>\n",
       "      <th>75%</th>\n",
       "      <td>866.500000</td>\n",
       "      <td>40.730646</td>\n",
       "      <td>-77.214731</td>\n",
       "      <td>3.575350</td>\n",
       "      <td>5.560250</td>\n",
       "      <td>4.686300</td>\n",
       "      <td>6.753400</td>\n",
       "      <td>10.000000</td>\n",
       "      <td>3.000000</td>\n",
       "      <td>2.472500e+07</td>\n",
       "      <td>...</td>\n",
       "      <td>0.000000</td>\n",
       "      <td>1.000000</td>\n",
       "      <td>1.000000</td>\n",
       "      <td>1.000000</td>\n",
       "      <td>1.000000</td>\n",
       "      <td>1.000000</td>\n",
       "      <td>0.000000</td>\n",
       "      <td>0.000000</td>\n",
       "      <td>3.800000</td>\n",
       "      <td>1.000000</td>\n",
       "    </tr>\n",
       "    <tr>\n",
       "      <th>max</th>\n",
       "      <td>1153.000000</td>\n",
       "      <td>59.335232</td>\n",
       "      <td>18.057121</td>\n",
       "      <td>21.895900</td>\n",
       "      <td>21.895900</td>\n",
       "      <td>24.684900</td>\n",
       "      <td>24.684900</td>\n",
       "      <td>63.000000</td>\n",
       "      <td>10.000000</td>\n",
       "      <td>5.700000e+09</td>\n",
       "      <td>...</td>\n",
       "      <td>1.000000</td>\n",
       "      <td>1.000000</td>\n",
       "      <td>1.000000</td>\n",
       "      <td>1.000000</td>\n",
       "      <td>1.000000</td>\n",
       "      <td>1.000000</td>\n",
       "      <td>1.000000</td>\n",
       "      <td>1.000000</td>\n",
       "      <td>16.000000</td>\n",
       "      <td>1.000000</td>\n",
       "    </tr>\n",
       "  </tbody>\n",
       "</table>\n",
       "<p>8 rows × 34 columns</p>\n",
       "</div>"
      ],
      "text/plain": [
       "        Unnamed: 0    latitude   longitude  age_first_funding_year  \\\n",
       "count   923.000000  923.000000  923.000000              923.000000   \n",
       "mean    572.297941   38.517442 -103.539212                2.235630   \n",
       "std     333.585431    3.741497   22.394167                2.510449   \n",
       "min       1.000000   25.752358 -122.756956               -9.046600   \n",
       "25%     283.500000   37.388869 -122.198732                0.576700   \n",
       "50%     577.000000   37.779281 -118.374037                1.446600   \n",
       "75%     866.500000   40.730646  -77.214731                3.575350   \n",
       "max    1153.000000   59.335232   18.057121               21.895900   \n",
       "\n",
       "       age_last_funding_year  age_first_milestone_year  \\\n",
       "count             923.000000                771.000000   \n",
       "mean                3.931456                  3.055353   \n",
       "std                 2.967910                  2.977057   \n",
       "min                -9.046600                -14.169900   \n",
       "25%                 1.669850                  1.000000   \n",
       "50%                 3.528800                  2.520500   \n",
       "75%                 5.560250                  4.686300   \n",
       "max                21.895900                 24.684900   \n",
       "\n",
       "       age_last_milestone_year  relationships  funding_rounds  \\\n",
       "count               771.000000     923.000000      923.000000   \n",
       "mean                  4.754423       7.710726        2.310943   \n",
       "std                   3.212107       7.265776        1.390922   \n",
       "min                  -7.005500       0.000000        1.000000   \n",
       "25%                   2.411000       3.000000        1.000000   \n",
       "50%                   4.476700       5.000000        2.000000   \n",
       "75%                   6.753400      10.000000        3.000000   \n",
       "max                  24.684900      63.000000       10.000000   \n",
       "\n",
       "       funding_total_usd     ...      is_consulting  is_othercategory  \\\n",
       "count       9.230000e+02     ...         923.000000        923.000000   \n",
       "mean        2.541975e+07     ...           0.003250          0.322860   \n",
       "std         1.896344e+08     ...           0.056949          0.467823   \n",
       "min         1.100000e+04     ...           0.000000          0.000000   \n",
       "25%         2.725000e+06     ...           0.000000          0.000000   \n",
       "50%         1.000000e+07     ...           0.000000          0.000000   \n",
       "75%         2.472500e+07     ...           0.000000          1.000000   \n",
       "max         5.700000e+09     ...           1.000000          1.000000   \n",
       "\n",
       "           has_VC   has_angel  has_roundA  has_roundB  has_roundC  has_roundD  \\\n",
       "count  923.000000  923.000000  923.000000  923.000000  923.000000  923.000000   \n",
       "mean     0.326111    0.254605    0.508126    0.392199    0.232936    0.099675   \n",
       "std      0.469042    0.435875    0.500205    0.488505    0.422931    0.299729   \n",
       "min      0.000000    0.000000    0.000000    0.000000    0.000000    0.000000   \n",
       "25%      0.000000    0.000000    0.000000    0.000000    0.000000    0.000000   \n",
       "50%      0.000000    0.000000    1.000000    0.000000    0.000000    0.000000   \n",
       "75%      1.000000    1.000000    1.000000    1.000000    0.000000    0.000000   \n",
       "max      1.000000    1.000000    1.000000    1.000000    1.000000    1.000000   \n",
       "\n",
       "       avg_participants   is_top500  \n",
       "count        923.000000  923.000000  \n",
       "mean           2.838586    0.809317  \n",
       "std            1.874601    0.393052  \n",
       "min            1.000000    0.000000  \n",
       "25%            1.500000    1.000000  \n",
       "50%            2.500000    1.000000  \n",
       "75%            3.800000    1.000000  \n",
       "max           16.000000    1.000000  \n",
       "\n",
       "[8 rows x 34 columns]"
      ]
     },
     "execution_count": 8,
     "metadata": {},
     "output_type": "execute_result"
    }
   ],
   "source": [
    "train.describe()"
   ]
  },
  {
   "cell_type": "code",
   "execution_count": 9,
   "metadata": {},
   "outputs": [
    {
     "data": {
      "text/html": [
       "<div>\n",
       "<style scoped>\n",
       "    .dataframe tbody tr th:only-of-type {\n",
       "        vertical-align: middle;\n",
       "    }\n",
       "\n",
       "    .dataframe tbody tr th {\n",
       "        vertical-align: top;\n",
       "    }\n",
       "\n",
       "    .dataframe thead th {\n",
       "        text-align: right;\n",
       "    }\n",
       "</style>\n",
       "<table border=\"1\" class=\"dataframe\">\n",
       "  <thead>\n",
       "    <tr style=\"text-align: right;\">\n",
       "      <th></th>\n",
       "      <th>state_code</th>\n",
       "      <th>zip_code</th>\n",
       "      <th>id</th>\n",
       "      <th>city</th>\n",
       "      <th>Unnamed: 6</th>\n",
       "      <th>name</th>\n",
       "      <th>founded_at</th>\n",
       "      <th>closed_at</th>\n",
       "      <th>first_funding_at</th>\n",
       "      <th>last_funding_at</th>\n",
       "      <th>state_code.1</th>\n",
       "      <th>category_code</th>\n",
       "      <th>object_id</th>\n",
       "      <th>status</th>\n",
       "    </tr>\n",
       "  </thead>\n",
       "  <tbody>\n",
       "    <tr>\n",
       "      <th>0</th>\n",
       "      <td>CA</td>\n",
       "      <td>92101</td>\n",
       "      <td>c:6669</td>\n",
       "      <td>San Diego</td>\n",
       "      <td>NaN</td>\n",
       "      <td>Bandsintown</td>\n",
       "      <td>01-01-07</td>\n",
       "      <td>NaN</td>\n",
       "      <td>04-01-09</td>\n",
       "      <td>01-01-10</td>\n",
       "      <td>CA</td>\n",
       "      <td>music</td>\n",
       "      <td>c:6669</td>\n",
       "      <td>acquired</td>\n",
       "    </tr>\n",
       "    <tr>\n",
       "      <th>1</th>\n",
       "      <td>CA</td>\n",
       "      <td>95032</td>\n",
       "      <td>c:16283</td>\n",
       "      <td>Los Gatos</td>\n",
       "      <td>NaN</td>\n",
       "      <td>TriCipher</td>\n",
       "      <td>01-01-00</td>\n",
       "      <td>NaN</td>\n",
       "      <td>2/14/2005</td>\n",
       "      <td>12/28/2009</td>\n",
       "      <td>CA</td>\n",
       "      <td>enterprise</td>\n",
       "      <td>c:16283</td>\n",
       "      <td>acquired</td>\n",
       "    </tr>\n",
       "    <tr>\n",
       "      <th>2</th>\n",
       "      <td>CA</td>\n",
       "      <td>92121</td>\n",
       "      <td>c:65620</td>\n",
       "      <td>San Diego</td>\n",
       "      <td>San Diego CA 92121</td>\n",
       "      <td>Plixi</td>\n",
       "      <td>3/18/2009</td>\n",
       "      <td>NaN</td>\n",
       "      <td>3/30/2010</td>\n",
       "      <td>3/30/2010</td>\n",
       "      <td>CA</td>\n",
       "      <td>web</td>\n",
       "      <td>c:65620</td>\n",
       "      <td>acquired</td>\n",
       "    </tr>\n",
       "    <tr>\n",
       "      <th>3</th>\n",
       "      <td>CA</td>\n",
       "      <td>95014</td>\n",
       "      <td>c:42668</td>\n",
       "      <td>Cupertino</td>\n",
       "      <td>Cupertino CA 95014</td>\n",
       "      <td>Solidcore Systems</td>\n",
       "      <td>01-01-02</td>\n",
       "      <td>NaN</td>\n",
       "      <td>2/17/2005</td>\n",
       "      <td>4/25/2007</td>\n",
       "      <td>CA</td>\n",
       "      <td>software</td>\n",
       "      <td>c:42668</td>\n",
       "      <td>acquired</td>\n",
       "    </tr>\n",
       "    <tr>\n",
       "      <th>4</th>\n",
       "      <td>CA</td>\n",
       "      <td>94105</td>\n",
       "      <td>c:65806</td>\n",
       "      <td>San Francisco</td>\n",
       "      <td>San Francisco CA 94105</td>\n",
       "      <td>Inhale Digital</td>\n",
       "      <td>08-01-10</td>\n",
       "      <td>10-01-12</td>\n",
       "      <td>08-01-10</td>\n",
       "      <td>04-01-12</td>\n",
       "      <td>CA</td>\n",
       "      <td>games_video</td>\n",
       "      <td>c:65806</td>\n",
       "      <td>closed</td>\n",
       "    </tr>\n",
       "  </tbody>\n",
       "</table>\n",
       "</div>"
      ],
      "text/plain": [
       "  state_code zip_code       id           city              Unnamed: 6  \\\n",
       "0         CA    92101   c:6669      San Diego                     NaN   \n",
       "1         CA    95032  c:16283      Los Gatos                     NaN   \n",
       "2         CA    92121  c:65620      San Diego      San Diego CA 92121   \n",
       "3         CA    95014  c:42668      Cupertino      Cupertino CA 95014   \n",
       "4         CA    94105  c:65806  San Francisco  San Francisco CA 94105   \n",
       "\n",
       "                name founded_at closed_at first_funding_at last_funding_at  \\\n",
       "0        Bandsintown   01-01-07       NaN         04-01-09        01-01-10   \n",
       "1          TriCipher   01-01-00       NaN        2/14/2005      12/28/2009   \n",
       "2              Plixi  3/18/2009       NaN        3/30/2010       3/30/2010   \n",
       "3  Solidcore Systems   01-01-02       NaN        2/17/2005       4/25/2007   \n",
       "4     Inhale Digital   08-01-10  10-01-12         08-01-10        04-01-12   \n",
       "\n",
       "  state_code.1 category_code object_id    status  \n",
       "0           CA         music    c:6669  acquired  \n",
       "1           CA    enterprise   c:16283  acquired  \n",
       "2           CA           web   c:65620  acquired  \n",
       "3           CA      software   c:42668  acquired  \n",
       "4           CA   games_video   c:65806    closed  "
      ]
     },
     "execution_count": 9,
     "metadata": {},
     "output_type": "execute_result"
    }
   ],
   "source": [
    "cat_feature = train.select_dtypes(include='object')\n",
    "cat_feature.head()"
   ]
  },
  {
   "cell_type": "code",
   "execution_count": 10,
   "metadata": {},
   "outputs": [],
   "source": [
    "train = train.drop(['state_code','id','Unnamed: 6','state_code.1','category_code','object_id'],axis=1)\n",
    "test = test.drop(['state_code','id','Unnamed: 6','state_code.1','category_code','object_id'],axis=1)\n",
    "train = train.drop(['zip_code','founded_at','closed_at','first_funding_at','last_funding_at','city','name'],axis=1)\n",
    "test = test.drop(['zip_code','founded_at','closed_at','first_funding_at','last_funding_at','city','name'],axis=1)\n",
    "train = train.drop(['Unnamed: 0'],axis=1)\n",
    "test = test.drop(['Unnamed: 0'],axis=1)\n",
    "train = train.drop(['latitude','longitude'],axis=1)\n",
    "test = test.drop(['latitude','longitude'],axis=1)"
   ]
  },
  {
   "cell_type": "code",
   "execution_count": 11,
   "metadata": {},
   "outputs": [
    {
     "data": {
      "text/html": [
       "<div>\n",
       "<style scoped>\n",
       "    .dataframe tbody tr th:only-of-type {\n",
       "        vertical-align: middle;\n",
       "    }\n",
       "\n",
       "    .dataframe tbody tr th {\n",
       "        vertical-align: top;\n",
       "    }\n",
       "\n",
       "    .dataframe thead th {\n",
       "        text-align: right;\n",
       "    }\n",
       "</style>\n",
       "<table border=\"1\" class=\"dataframe\">\n",
       "  <thead>\n",
       "    <tr style=\"text-align: right;\">\n",
       "      <th></th>\n",
       "      <th>status</th>\n",
       "    </tr>\n",
       "  </thead>\n",
       "  <tbody>\n",
       "    <tr>\n",
       "      <th>0</th>\n",
       "      <td>acquired</td>\n",
       "    </tr>\n",
       "    <tr>\n",
       "      <th>1</th>\n",
       "      <td>acquired</td>\n",
       "    </tr>\n",
       "    <tr>\n",
       "      <th>2</th>\n",
       "      <td>acquired</td>\n",
       "    </tr>\n",
       "    <tr>\n",
       "      <th>3</th>\n",
       "      <td>acquired</td>\n",
       "    </tr>\n",
       "    <tr>\n",
       "      <th>4</th>\n",
       "      <td>closed</td>\n",
       "    </tr>\n",
       "  </tbody>\n",
       "</table>\n",
       "</div>"
      ],
      "text/plain": [
       "     status\n",
       "0  acquired\n",
       "1  acquired\n",
       "2  acquired\n",
       "3  acquired\n",
       "4    closed"
      ]
     },
     "execution_count": 11,
     "metadata": {},
     "output_type": "execute_result"
    }
   ],
   "source": [
    "cat_feature = train.select_dtypes(include='object')\n",
    "cat_feature.head()"
   ]
  },
  {
   "cell_type": "code",
   "execution_count": 12,
   "metadata": {},
   "outputs": [],
   "source": [
    "train['status'].replace('closed',0,inplace=True)\n",
    "train['status'].replace('acquired',1,inplace=True)"
   ]
  },
  {
   "cell_type": "code",
   "execution_count": 13,
   "metadata": {},
   "outputs": [
    {
     "data": {
      "text/plain": [
       "<matplotlib.axes._subplots.AxesSubplot at 0x1db630969e8>"
      ]
     },
     "execution_count": 13,
     "metadata": {},
     "output_type": "execute_result"
    },
    {
     "data": {
      "image/png": "[encoded data removed]",
      "text/plain": [
       "<Figure size 432x288 with 1 Axes>"
      ]
     },
     "metadata": {},
     "output_type": "display_data"
    }
   ],
   "source": [
    "sns.countplot(train['status'])"
   ]
  },
  {
   "cell_type": "markdown",
   "metadata": {},
   "source": [
    "Removing Null Values"
   ]
  },
  {
   "cell_type": "code",
   "execution_count": 14,
   "metadata": {},
   "outputs": [
    {
     "data": {
      "text/plain": [
       "age_first_funding_year        0\n",
       "age_last_funding_year         0\n",
       "age_first_milestone_year    152\n",
       "age_last_milestone_year     152\n",
       "relationships                 0\n",
       "funding_rounds                0\n",
       "funding_total_usd             0\n",
       "milestones                    0\n",
       "is_CA                         0\n",
       "is_NY                         0\n",
       "is_MA                         0\n",
       "is_TX                         0\n",
       "is_otherstate                 0\n",
       "is_software                   0\n",
       "is_web                        0\n",
       "is_mobile                     0\n",
       "is_enterprise                 0\n",
       "is_advertising                0\n",
       "is_gamesvideo                 0\n",
       "is_ecommerce                  0\n",
       "is_biotech                    0\n",
       "is_consulting                 0\n",
       "is_othercategory              0\n",
       "has_VC                        0\n",
       "has_angel                     0\n",
       "has_roundA                    0\n",
       "has_roundB                    0\n",
       "has_roundC                    0\n",
       "has_roundD                    0\n",
       "avg_participants              0\n",
       "is_top500                     0\n",
       "status                        0\n",
       "dtype: int64"
      ]
     },
     "execution_count": 14,
     "metadata": {},
     "output_type": "execute_result"
    }
   ],
   "source": [
    "train.isnull().sum()"
   ]
  },
  {
   "cell_type": "code",
   "execution_count": 15,
   "metadata": {},
   "outputs": [],
   "source": [
    "train['age_first_milestone_year'] = train['age_first_milestone_year'].fillna(train['age_first_milestone_year'].median())\n",
    "test['age_first_milestone_year'] = test['age_first_milestone_year'].fillna(train['age_first_milestone_year'].median())\n",
    "train['age_last_milestone_year'] = train['age_last_milestone_year'].fillna(train['age_last_milestone_year'].median())\n",
    "test['age_last_milestone_year'] = test['age_last_milestone_year'].fillna(train['age_last_milestone_year'].median())"
   ]
  },
  {
   "cell_type": "code",
   "execution_count": 16,
   "metadata": {},
   "outputs": [],
   "source": [
    "#train.isnull().sum()"
   ]
  },
  {
   "cell_type": "code",
   "execution_count": 17,
   "metadata": {},
   "outputs": [
    {
     "data": {
      "text/html": [
       "<div>\n",
       "<style scoped>\n",
       "    .dataframe tbody tr th:only-of-type {\n",
       "        vertical-align: middle;\n",
       "    }\n",
       "\n",
       "    .dataframe tbody tr th {\n",
       "        vertical-align: top;\n",
       "    }\n",
       "\n",
       "    .dataframe thead th {\n",
       "        text-align: right;\n",
       "    }\n",
       "</style>\n",
       "<table border=\"1\" class=\"dataframe\">\n",
       "  <thead>\n",
       "    <tr style=\"text-align: right;\">\n",
       "      <th></th>\n",
       "      <th>age_first_funding_year</th>\n",
       "      <th>age_last_funding_year</th>\n",
       "      <th>age_first_milestone_year</th>\n",
       "      <th>age_last_milestone_year</th>\n",
       "      <th>relationships</th>\n",
       "      <th>funding_rounds</th>\n",
       "      <th>funding_total_usd</th>\n",
       "      <th>milestones</th>\n",
       "      <th>is_CA</th>\n",
       "      <th>is_NY</th>\n",
       "      <th>...</th>\n",
       "      <th>is_othercategory</th>\n",
       "      <th>has_VC</th>\n",
       "      <th>has_angel</th>\n",
       "      <th>has_roundA</th>\n",
       "      <th>has_roundB</th>\n",
       "      <th>has_roundC</th>\n",
       "      <th>has_roundD</th>\n",
       "      <th>avg_participants</th>\n",
       "      <th>is_top500</th>\n",
       "      <th>status</th>\n",
       "    </tr>\n",
       "  </thead>\n",
       "  <tbody>\n",
       "    <tr>\n",
       "      <th>0</th>\n",
       "      <td>2.2493</td>\n",
       "      <td>3.0027</td>\n",
       "      <td>4.6685</td>\n",
       "      <td>6.7041</td>\n",
       "      <td>3</td>\n",
       "      <td>3</td>\n",
       "      <td>375000</td>\n",
       "      <td>3</td>\n",
       "      <td>1</td>\n",
       "      <td>0</td>\n",
       "      <td>...</td>\n",
       "      <td>1</td>\n",
       "      <td>0</td>\n",
       "      <td>1</td>\n",
       "      <td>0</td>\n",
       "      <td>0</td>\n",
       "      <td>0</td>\n",
       "      <td>0</td>\n",
       "      <td>1.0000</td>\n",
       "      <td>0</td>\n",
       "      <td>1</td>\n",
       "    </tr>\n",
       "    <tr>\n",
       "      <th>1</th>\n",
       "      <td>5.1260</td>\n",
       "      <td>9.9973</td>\n",
       "      <td>7.0055</td>\n",
       "      <td>7.0055</td>\n",
       "      <td>9</td>\n",
       "      <td>4</td>\n",
       "      <td>40100000</td>\n",
       "      <td>1</td>\n",
       "      <td>1</td>\n",
       "      <td>0</td>\n",
       "      <td>...</td>\n",
       "      <td>0</td>\n",
       "      <td>1</td>\n",
       "      <td>0</td>\n",
       "      <td>0</td>\n",
       "      <td>1</td>\n",
       "      <td>1</td>\n",
       "      <td>1</td>\n",
       "      <td>4.7500</td>\n",
       "      <td>1</td>\n",
       "      <td>1</td>\n",
       "    </tr>\n",
       "    <tr>\n",
       "      <th>2</th>\n",
       "      <td>1.0329</td>\n",
       "      <td>1.0329</td>\n",
       "      <td>1.4575</td>\n",
       "      <td>2.2055</td>\n",
       "      <td>5</td>\n",
       "      <td>1</td>\n",
       "      <td>2600000</td>\n",
       "      <td>2</td>\n",
       "      <td>1</td>\n",
       "      <td>0</td>\n",
       "      <td>...</td>\n",
       "      <td>0</td>\n",
       "      <td>0</td>\n",
       "      <td>0</td>\n",
       "      <td>1</td>\n",
       "      <td>0</td>\n",
       "      <td>0</td>\n",
       "      <td>0</td>\n",
       "      <td>4.0000</td>\n",
       "      <td>1</td>\n",
       "      <td>1</td>\n",
       "    </tr>\n",
       "    <tr>\n",
       "      <th>3</th>\n",
       "      <td>3.1315</td>\n",
       "      <td>5.3151</td>\n",
       "      <td>6.0027</td>\n",
       "      <td>6.0027</td>\n",
       "      <td>5</td>\n",
       "      <td>3</td>\n",
       "      <td>40000000</td>\n",
       "      <td>1</td>\n",
       "      <td>1</td>\n",
       "      <td>0</td>\n",
       "      <td>...</td>\n",
       "      <td>0</td>\n",
       "      <td>0</td>\n",
       "      <td>0</td>\n",
       "      <td>0</td>\n",
       "      <td>1</td>\n",
       "      <td>1</td>\n",
       "      <td>1</td>\n",
       "      <td>3.3333</td>\n",
       "      <td>1</td>\n",
       "      <td>1</td>\n",
       "    </tr>\n",
       "    <tr>\n",
       "      <th>4</th>\n",
       "      <td>0.0000</td>\n",
       "      <td>1.6685</td>\n",
       "      <td>0.0384</td>\n",
       "      <td>0.0384</td>\n",
       "      <td>2</td>\n",
       "      <td>2</td>\n",
       "      <td>1300000</td>\n",
       "      <td>1</td>\n",
       "      <td>1</td>\n",
       "      <td>0</td>\n",
       "      <td>...</td>\n",
       "      <td>0</td>\n",
       "      <td>1</td>\n",
       "      <td>1</td>\n",
       "      <td>0</td>\n",
       "      <td>0</td>\n",
       "      <td>0</td>\n",
       "      <td>0</td>\n",
       "      <td>1.0000</td>\n",
       "      <td>1</td>\n",
       "      <td>0</td>\n",
       "    </tr>\n",
       "  </tbody>\n",
       "</table>\n",
       "<p>5 rows × 32 columns</p>\n",
       "</div>"
      ],
      "text/plain": [
       "   age_first_funding_year  age_last_funding_year  age_first_milestone_year  \\\n",
       "0                  2.2493                 3.0027                    4.6685   \n",
       "1                  5.1260                 9.9973                    7.0055   \n",
       "2                  1.0329                 1.0329                    1.4575   \n",
       "3                  3.1315                 5.3151                    6.0027   \n",
       "4                  0.0000                 1.6685                    0.0384   \n",
       "\n",
       "   age_last_milestone_year  relationships  funding_rounds  funding_total_usd  \\\n",
       "0                   6.7041              3               3             375000   \n",
       "1                   7.0055              9               4           40100000   \n",
       "2                   2.2055              5               1            2600000   \n",
       "3                   6.0027              5               3           40000000   \n",
       "4                   0.0384              2               2            1300000   \n",
       "\n",
       "   milestones  is_CA  is_NY   ...    is_othercategory  has_VC  has_angel  \\\n",
       "0           3      1      0   ...                   1       0          1   \n",
       "1           1      1      0   ...                   0       1          0   \n",
       "2           2      1      0   ...                   0       0          0   \n",
       "3           1      1      0   ...                   0       0          0   \n",
       "4           1      1      0   ...                   0       1          1   \n",
       "\n",
       "   has_roundA  has_roundB  has_roundC  has_roundD  avg_participants  \\\n",
       "0           0           0           0           0            1.0000   \n",
       "1           0           1           1           1            4.7500   \n",
       "2           1           0           0           0            4.0000   \n",
       "3           0           1           1           1            3.3333   \n",
       "4           0           0           0           0            1.0000   \n",
       "\n",
       "   is_top500  status  \n",
       "0          0       1  \n",
       "1          1       1  \n",
       "2          1       1  \n",
       "3          1       1  \n",
       "4          1       0  \n",
       "\n",
       "[5 rows x 32 columns]"
      ]
     },
     "execution_count": 17,
     "metadata": {},
     "output_type": "execute_result"
    }
   ],
   "source": [
    "train .head()"
   ]
  },
  {
   "cell_type": "markdown",
   "metadata": {},
   "source": [
    "splitting the data"
   ]
  },
  {
   "cell_type": "code",
   "execution_count": 18,
   "metadata": {},
   "outputs": [],
   "source": [
    "X=train.drop('status',axis=1)\n",
    "y=train['status']\n",
    "x_test=test"
   ]
  },
  {
   "cell_type": "code",
   "execution_count": 19,
   "metadata": {},
   "outputs": [
    {
     "data": {
      "text/plain": [
       "array([[ 0.00544819, -0.31310227,  0.62399033, ..., -0.3327311 ,\n",
       "        -0.98131975, -2.06017431],\n",
       "       [ 1.15196028,  2.04491818,  1.48117495, ...,  3.00542987,\n",
       "         1.02019053,  0.48539582],\n",
       "       [-0.47934943, -0.97716151, -0.55376739, ..., -0.3327311 ,\n",
       "         0.61988848,  0.48539582],\n",
       "       ...,\n",
       "       [ 2.4950378 ,  1.53876602,  2.21475186, ...,  3.00542987,\n",
       "         2.75483278,  0.48539582],\n",
       "       [-0.58855244, -0.37034527, -0.81000581, ..., -0.3327311 ,\n",
       "        -0.98131975,  0.48539582],\n",
       "       [ 0.35266595, -0.27338952,  0.37978258, ..., -0.3327311 ,\n",
       "         0.0861524 ,  0.48539582]])"
      ]
     },
     "execution_count": 19,
     "metadata": {},
     "output_type": "execute_result"
    }
   ],
   "source": [
    "from sklearn.preprocessing import StandardScaler\n",
    "sc = StandardScaler()\n",
    "X =  sc.fit_transform(X)\n",
    "X"
   ]
  },
  {
   "cell_type": "code",
   "execution_count": 20,
   "metadata": {},
   "outputs": [
    {
     "name": "stdout",
     "output_type": "stream",
     "text": [
      "Shape of the X Train : (738, 31)\n",
      "Shape of the y Train : (738,)\n",
      "Shape of the X test : (185, 31)\n",
      "Shape of the y test : (185,)\n",
      "Shape of the test data : (231, 31)\n"
     ]
    }
   ],
   "source": [
    "from sklearn.model_selection import train_test_split\n",
    "X_train, X_test, y_train, y_test = train_test_split(X, y, test_size = 0.2, random_state = 42)\n",
    "\n",
    "print(\"Shape of the X Train :\", X_train.shape)\n",
    "print(\"Shape of the y Train :\", y_train.shape)\n",
    "print(\"Shape of the X test :\", X_test.shape)\n",
    "print(\"Shape of the y test :\", y_test.shape)\n",
    "print(\"Shape of the test data :\", x_test.shape)"
   ]
  },
  {
   "cell_type": "markdown",
   "metadata": {},
   "source": [
    "# Model Building"
   ]
  },
  {
   "cell_type": "code",
   "execution_count": 21,
   "metadata": {},
   "outputs": [],
   "source": [
    "from sklearn.metrics import confusion_matrix, classification_report,accuracy_score,roc_curve, auc"
   ]
  },
  {
   "cell_type": "markdown",
   "metadata": {},
   "source": [
    "Random Forests"
   ]
  },
  {
   "cell_type": "code",
   "execution_count": 22,
   "metadata": {},
   "outputs": [
    {
     "name": "stdout",
     "output_type": "stream",
     "text": [
      "Training Accuracy : 0.7859078590785907\n",
      "Testing Accuracy : 0.7783783783783784\n"
     ]
    },
    {
     "data": {
      "image/png": "[encoded data removed]",
      "text/plain": [
       "<Figure size 216x216 with 2 Axes>"
      ]
     },
     "metadata": {},
     "output_type": "display_data"
    },
    {
     "name": "stdout",
     "output_type": "stream",
     "text": [
      "              precision    recall  f1-score   support\n",
      "\n",
      "           0       0.88      0.51      0.64        73\n",
      "           1       0.75      0.96      0.84       112\n",
      "\n",
      "    accuracy                           0.78       185\n",
      "   macro avg       0.81      0.73      0.74       185\n",
      "weighted avg       0.80      0.78      0.76       185\n",
      "\n",
      "roc_auc 0.731103228962818\n"
     ]
    }
   ],
   "source": [
    "from sklearn.ensemble import RandomForestClassifier\n",
    "rf = RandomForestClassifier(bootstrap=False, max_depth=12, min_samples_leaf=100, min_samples_split=20,\n",
    "                       n_estimators=100,criterion='entropy',n_jobs=1000,max_leaf_nodes=100,max_features='auto'\n",
    "                           )\n",
    "\n",
    "    \n",
    "rf.fit(X,y)\n",
    "\n",
    "\n",
    "y_pred_rf = rf.predict(X_test)\n",
    "\n",
    "print(\"Training Accuracy :\", rf.score(X_train, y_train))\n",
    "print(\"Testing Accuracy :\", rf.score(X_test, y_test))\n",
    "\n",
    "cm = confusion_matrix(y_test, y_pred_rf)\n",
    "plt.rcParams['figure.figsize'] = (3, 3)\n",
    "sns.heatmap(cm, annot = True, cmap = 'Wistia', fmt = '.8g')\n",
    "plt.show()\n",
    "\n",
    "cr = classification_report(y_test, y_pred_rf)\n",
    "print(cr)\n",
    "\n",
    "false_positive_rate, true_positive_rate, thresholds = roc_curve(y_test,y_pred_rf)\n",
    "roc_auc = auc(false_positive_rate, true_positive_rate)\n",
    "print(\"roc_auc\",roc_auc)"
   ]
  },
  {
   "cell_type": "markdown",
   "metadata": {},
   "source": [
    "SVC"
   ]
  },
  {
   "cell_type": "code",
   "execution_count": 46,
   "metadata": {},
   "outputs": [
    {
     "name": "stdout",
     "output_type": "stream",
     "text": [
      "Training Accuracy : 0.9932249322493225\n",
      "Testing Accuracy : 0.9837837837837838\n"
     ]
    },
    {
     "data": {
      "image/png": "[encoded data removed]",
      "text/plain": [
       "<Figure size 216x216 with 2 Axes>"
      ]
     },
     "metadata": {},
     "output_type": "display_data"
    },
    {
     "name": "stdout",
     "output_type": "stream",
     "text": [
      "              precision    recall  f1-score   support\n",
      "\n",
      "           0       1.00      0.96      0.98        73\n",
      "           1       0.97      1.00      0.99       112\n",
      "\n",
      "    accuracy                           0.98       185\n",
      "   macro avg       0.99      0.98      0.98       185\n",
      "weighted avg       0.98      0.98      0.98       185\n",
      "\n",
      "roc_auc 0.9794520547945206\n"
     ]
    }
   ],
   "source": [
    "from sklearn.svm import SVC\n",
    "sv = SVC(C=100,degree=2)\n",
    "\n",
    "sv.fit(X,y)\n",
    "\n",
    "\n",
    "y_pred_sv = sv.predict(X_test)\n",
    "\n",
    "print(\"Training Accuracy :\", sv.score(X_train, y_train))\n",
    "print(\"Testing Accuracy :\", sv.score(X_test, y_test))\n",
    "\n",
    "cm = confusion_matrix(y_test, y_pred_sv)\n",
    "plt.rcParams['figure.figsize'] = (3, 3)\n",
    "sns.heatmap(cm, annot = True, cmap = 'Wistia', fmt = '.8g')\n",
    "plt.show()\n",
    "\n",
    "cr = classification_report(y_test, y_pred_sv)\n",
    "print(cr)\n",
    "\n",
    "false_positive_rate, true_positive_rate, thresholds = roc_curve(y_test,y_pred_sv)\n",
    "roc_auc = auc(false_positive_rate, true_positive_rate)\n",
    "print(\"roc_auc\",roc_auc)"
   ]
  },
  {
   "cell_type": "markdown",
   "metadata": {},
   "source": []
  },
  {
   "cell_type": "code",
   "execution_count": null,
   "metadata": {},
   "outputs": [],
   "source": []
  },
  {
   "cell_type": "code",
   "execution_count": null,
   "metadata": {},
   "outputs": [],
   "source": []
  }
 ],
 "metadata": {
  "kernelspec": {
   "display_name": "Python 3",
   "language": "python",
   "name": "python3"
  },
  "language_info": {
   "codemirror_mode": {
    "name": "ipython",
    "version": 3
   },
   "file_extension": ".py",
   "mimetype": "text/x-python",
   "name": "python",
   "nbconvert_exporter": "python",
   "pygments_lexer": "ipython3",
   "version": "3.6.5"
  }
 },
 "nbformat": 4,
 "nbformat_minor": 2
}
